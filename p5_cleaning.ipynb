{
  "nbformat": 4,
  "nbformat_minor": 0,
  "metadata": {
    "colab": {
      "name": "p5_cleaning.ipynb",
      "provenance": [],
      "collapsed_sections": [],
      "toc_visible": true,
      "include_colab_link": true
    },
    "kernelspec": {
      "name": "python3",
      "display_name": "Python 3"
    },
    "accelerator": "TPU"
  },
  "cells": [
    {
      "cell_type": "markdown",
      "metadata": {
        "id": "view-in-github",
        "colab_type": "text"
      },
      "source": [
        "<a href=\"https://colab.research.google.com/github/BrunoPinos/FormationDataAnalyst/blob/main/p5_cleaning.ipynb\" target=\"_parent\"><img src=\"https://colab.research.google.com/assets/colab-badge.svg\" alt=\"Open In Colab\"/></a>"
      ]
    },
    {
      "cell_type": "markdown",
      "metadata": {
        "id": "SJbzcnCdRfw0"
      },
      "source": [
        "# Library"
      ]
    },
    {
      "cell_type": "code",
      "metadata": {
        "id": "A_kvzvuEQj9J",
        "colab": {
          "base_uri": "https://localhost:8080/"
        },
        "outputId": "a5e4e506-cb94-4415-add5-ab9d39b2245c"
      },
      "source": [
        "# data analysis and wrangling\r\n",
        "import matplotlib.pyplot as plt\r\n",
        "import seaborn as sn\r\n",
        "import pandas as pd\r\n",
        "import numpy as np\r\n",
        "\r\n",
        "# text\r\n",
        "import re\r\n",
        "import spacy\r\n",
        "import nltk\r\n",
        "nltk.download('stopwords')\r\n",
        "from nltk.corpus import stopwords\r\n",
        "from gensim.corpora import Dictionary\r\n",
        "from gensim.utils import simple_preprocess\r\n",
        "from IPython.display import display, HTML\r\n",
        "\r\n",
        "# Save objects\r\n",
        "import joblib\r\n",
        "\r\n",
        "# Set working directory\r\n",
        "import os\r\n",
        "os.chdir('/content/drive/MyDrive/Colab Notebooks/P5')"
      ],
      "execution_count": 34,
      "outputs": [
        {
          "output_type": "stream",
          "text": [
            "[nltk_data] Downloading package stopwords to /root/nltk_data...\n",
            "[nltk_data]   Package stopwords is already up-to-date!\n"
          ],
          "name": "stdout"
        }
      ]
    },
    {
      "cell_type": "markdown",
      "metadata": {
        "id": "8KqW2pIRRemJ"
      },
      "source": [
        "# Import"
      ]
    },
    {
      "cell_type": "markdown",
      "metadata": {
        "id": "9HLzWbiwzYHu"
      },
      "source": [
        "**SQL**  \r\n",
        "I get 50,000 posts for every 10,000,000, the posts retrieved have a score> 10 and are questions"
      ]
    },
    {
      "cell_type": "markdown",
      "metadata": {
        "id": "xVGwMu32zWZW"
      },
      "source": [
        "for n in range(1, 7):  \r\n",
        "SELECT Id, Body, Title, Tags  \r\n",
        "FROM Posts  \r\n",
        "WHERE (Score >= 10) AND (PostTypeId = 1) AND (Id < n * 10000000) AND (  \r\n",
        "  Id >= (n - 1) * 10000000"
      ]
    },
    {
      "cell_type": "markdown",
      "metadata": {
        "id": "nXm313YSQrgr"
      },
      "source": [
        "**Read**"
      ]
    },
    {
      "cell_type": "code",
      "metadata": {
        "colab": {
          "base_uri": "https://localhost:8080/",
          "height": 420
        },
        "id": "PibYcq5uRK4U",
        "outputId": "936c9785-f83f-459a-ff96-0097a2facddd"
      },
      "source": [
        "n_files = 6\r\n",
        "list_files = [pd.read_csv('./Data/QueryResults (' + str(n+1) + ').csv',\r\n",
        "                          index_col='Id') for n in range(n_files)]\r\n",
        "\r\n",
        "df = pd.concat(list_files, axis=0)\r\n",
        "df"
      ],
      "execution_count": 4,
      "outputs": [
        {
          "output_type": "execute_result",
          "data": {
            "text/html": [
              "<div>\n",
              "<style scoped>\n",
              "    .dataframe tbody tr th:only-of-type {\n",
              "        vertical-align: middle;\n",
              "    }\n",
              "\n",
              "    .dataframe tbody tr th {\n",
              "        vertical-align: top;\n",
              "    }\n",
              "\n",
              "    .dataframe thead th {\n",
              "        text-align: right;\n",
              "    }\n",
              "</style>\n",
              "<table border=\"1\" class=\"dataframe\">\n",
              "  <thead>\n",
              "    <tr style=\"text-align: right;\">\n",
              "      <th></th>\n",
              "      <th>Body</th>\n",
              "      <th>Title</th>\n",
              "      <th>Tags</th>\n",
              "    </tr>\n",
              "    <tr>\n",
              "      <th>Id</th>\n",
              "      <th></th>\n",
              "      <th></th>\n",
              "      <th></th>\n",
              "    </tr>\n",
              "  </thead>\n",
              "  <tbody>\n",
              "    <tr>\n",
              "      <th>10000005</th>\n",
              "      <td>&lt;blockquote&gt;\\n&lt;p&gt;&lt;strong&gt;Possible Duplicate:&lt;/...</td>\n",
              "      <td>PHP Sort array by field?</td>\n",
              "      <td>&lt;php&gt;&lt;arrays&gt;&lt;sorting&gt;</td>\n",
              "    </tr>\n",
              "    <tr>\n",
              "      <th>10000020</th>\n",
              "      <td>&lt;p&gt;I am attempting to post form data to a goog...</td>\n",
              "      <td>AJAX post to google spreadsheet</td>\n",
              "      <td>&lt;jquery&gt;&lt;ajax&gt;&lt;google-apps-script&gt;&lt;google-sheets&gt;</td>\n",
              "    </tr>\n",
              "    <tr>\n",
              "      <th>10000074</th>\n",
              "      <td>&lt;p&gt;I'm just starting to look into the world of...</td>\n",
              "      <td>Which FRP package to choose?</td>\n",
              "      <td>&lt;haskell&gt;&lt;frp&gt;&lt;reactive-banana&gt;</td>\n",
              "    </tr>\n",
              "    <tr>\n",
              "      <th>10000083</th>\n",
              "      <td>&lt;p&gt;I want to make an eventHandler that passes ...</td>\n",
              "      <td>Javascript event handler with parameters</td>\n",
              "      <td>&lt;javascript&gt;&lt;events&gt;&lt;event-handling&gt;&lt;handler&gt;</td>\n",
              "    </tr>\n",
              "    <tr>\n",
              "      <th>10000226</th>\n",
              "      <td>&lt;p&gt;A string is called a square string if it ca...</td>\n",
              "      <td>Square Subsequence</td>\n",
              "      <td>&lt;string&gt;&lt;algorithm&gt;&lt;dynamic-programming&gt;</td>\n",
              "    </tr>\n",
              "    <tr>\n",
              "      <th>...</th>\n",
              "      <td>...</td>\n",
              "      <td>...</td>\n",
              "      <td>...</td>\n",
              "    </tr>\n",
              "    <tr>\n",
              "      <th>1213074</th>\n",
              "      <td>&lt;p&gt;I'm trying to drag data from the Winforms p...</td>\n",
              "      <td>WinForms Interop, Drag &amp; Drop from WinForms -&gt;...</td>\n",
              "      <td>&lt;wpf&gt;&lt;winforms&gt;&lt;interop&gt;&lt;drag-and-drop&gt;</td>\n",
              "    </tr>\n",
              "    <tr>\n",
              "      <th>1213127</th>\n",
              "      <td>&lt;p&gt;Is there a way for a Java program to detect...</td>\n",
              "      <td>Detect OS Sleep and Wake Up events in Java</td>\n",
              "      <td>&lt;java&gt;&lt;mysql&gt;&lt;database-connection&gt;&lt;sleep&gt;</td>\n",
              "    </tr>\n",
              "    <tr>\n",
              "      <th>1213137</th>\n",
              "      <td>&lt;p&gt;I know I can change the UITableView propert...</td>\n",
              "      <td>Is there a way to remove the separator line fr...</td>\n",
              "      <td>&lt;iphone&gt;&lt;uitableview&gt;</td>\n",
              "    </tr>\n",
              "    <tr>\n",
              "      <th>1213144</th>\n",
              "      <td>&lt;p&gt;I am writing a wpf destop application, and ...</td>\n",
              "      <td>Data paging in SQL Server CE (Compact Edition)</td>\n",
              "      <td>&lt;sql-server-ce&gt;&lt;data-paging&gt;</td>\n",
              "    </tr>\n",
              "    <tr>\n",
              "      <th>1213217</th>\n",
              "      <td>&lt;p&gt;I'm currently in a project which develops u...</td>\n",
              "      <td>How can I manage Perl module dependencies?</td>\n",
              "      <td>&lt;perl&gt;&lt;dependencies&gt;&lt;module&gt;&lt;legacy&gt;</td>\n",
              "    </tr>\n",
              "  </tbody>\n",
              "</table>\n",
              "<p>276693 rows × 3 columns</p>\n",
              "</div>"
            ],
            "text/plain": [
              "                                                       Body  ...                                               Tags\n",
              "Id                                                           ...                                                   \n",
              "10000005  <blockquote>\\n<p><strong>Possible Duplicate:</...  ...                             <php><arrays><sorting>\n",
              "10000020  <p>I am attempting to post form data to a goog...  ...  <jquery><ajax><google-apps-script><google-sheets>\n",
              "10000074  <p>I'm just starting to look into the world of...  ...                    <haskell><frp><reactive-banana>\n",
              "10000083  <p>I want to make an eventHandler that passes ...  ...      <javascript><events><event-handling><handler>\n",
              "10000226  <p>A string is called a square string if it ca...  ...           <string><algorithm><dynamic-programming>\n",
              "...                                                     ...  ...                                                ...\n",
              "1213074   <p>I'm trying to drag data from the Winforms p...  ...            <wpf><winforms><interop><drag-and-drop>\n",
              "1213127   <p>Is there a way for a Java program to detect...  ...          <java><mysql><database-connection><sleep>\n",
              "1213137   <p>I know I can change the UITableView propert...  ...                              <iphone><uitableview>\n",
              "1213144   <p>I am writing a wpf destop application, and ...  ...                       <sql-server-ce><data-paging>\n",
              "1213217   <p>I'm currently in a project which develops u...  ...               <perl><dependencies><module><legacy>\n",
              "\n",
              "[276693 rows x 3 columns]"
            ]
          },
          "metadata": {
            "tags": []
          },
          "execution_count": 4
        }
      ]
    },
    {
      "cell_type": "markdown",
      "metadata": {
        "id": "FJ2Z_Eug3oJx"
      },
      "source": [
        "# Pretreatment\r\n",
        "\r\n",
        "I create text with title + body.  \r\n",
        "I follow transformations on 2 question.  "
      ]
    },
    {
      "cell_type": "code",
      "metadata": {
        "id": "3LbZ_RHh7tgF"
      },
      "source": [
        "sample = np.random.choice(len(df), 2)\r\n",
        "\r\n",
        "def random_display(docs, sample):\r\n",
        "    for s in sample:\r\n",
        "        print(docs.iloc[s], '\\n'+'-'*20+'\\n'*2)"
      ],
      "execution_count": 5,
      "outputs": []
    },
    {
      "cell_type": "code",
      "metadata": {
        "colab": {
          "base_uri": "https://localhost:8080/"
        },
        "id": "QmvHGEiL7vn0",
        "outputId": "427e6492-7d6b-4d4b-e189-fa39670d9799"
      },
      "source": [
        "texts = (df.Title + ' ' +df.Body)\r\n",
        "\r\n",
        "\r\n",
        "random_display(texts, sample)"
      ],
      "execution_count": 6,
      "outputs": [
        {
          "output_type": "stream",
          "text": [
            "How to get UIMenuController work for a custom view? <p>I'm trying to get the following code work:</p>\n",
            "\n",
            "<pre><code>UIMenuController * menu = [UIMenuController sharedMenuController];\n",
            "[menu setTargetRect: CGRectMake(100, 100, 100, 100) inView: self.view];\n",
            "[menu setMenuVisible: YES animated: YES];\n",
            "</code></pre>\n",
            "\n",
            "<p>The menu instance is ready but it doesn't show - the width is always zero.</p>\n",
            "\n",
            "<p>Or is there some sample code on this <code>UIPasteboard/UIMenuController</code> topic?</p>\n",
            " \n",
            "--------------------\n",
            "\n",
            "\n",
            "How to use / refer to the negation of a boolean function in Scala? <p>I'm trying to use the negation of a boolean function in Scala, such as:</p>\n",
            "\n",
            "<pre><code>def someFunction(x: Set, p: Int =&gt; Boolean): Boolean = \n",
            "    someOtherFunction(x, !p)\n",
            "</code></pre>\n",
            "\n",
            "<p>But I get the error:</p>\n",
            "\n",
            "<pre><code> value unary_! is not a member of Int =&gt; Boolean\n",
            "</code></pre>\n",
            "\n",
            "<p>How can I refer to the negation of p? </p>\n",
            " \n",
            "--------------------\n",
            "\n",
            "\n"
          ],
          "name": "stdout"
        }
      ]
    },
    {
      "cell_type": "markdown",
      "metadata": {
        "id": "TUZvbSt78Frj"
      },
      "source": [
        "The first part of our job is to clean up the text\r\n",
        "\r\n",
        "1.   Remove superfluous parts: code parts, HTML tags, punctuation... \r\n",
        "2.   Create tokens: i.e. separate their text for each document into a list of  words\r\n",
        "3.   Remove stopwords: words considered too common to be interesting in our analysis\r\n",
        "4.   Lemmatize: transform all the words into a basic form whatever the form in which it appears in the document (plural, conjugated verb, feminine form ...)"
      ]
    },
    {
      "cell_type": "code",
      "metadata": {
        "id": "DK82FzlVnnml"
      },
      "source": [
        "# Lemmatization function\r\n",
        "nlp = spacy.load('en', disable=['parser', 'ner'])\r\n",
        "\r\n",
        "def lemmatization(doc, nlp, banned_postags=['PUNCT', 'DET', 'PRON', 'CONJ',\r\n",
        "                                            'ADV', 'INTJ']):\r\n",
        "    doc = nlp(doc)\r\n",
        "    return [token.lemma_ for token in doc if token.pos_ not in banned_postags]\r\n",
        "    \r\n",
        "\r\n",
        "# Remove stopwords\r\n",
        "stop_words = stopwords.words('english')\r\n",
        "\r\n",
        "# stop_words.extend([])\r\n",
        "def remove_stopwords(doc):\r\n",
        "    return \" \".join([word for word in doc if word not in stop_words]) "
      ],
      "execution_count": 27,
      "outputs": []
    },
    {
      "cell_type": "code",
      "metadata": {
        "colab": {
          "base_uri": "https://localhost:8080/"
        },
        "id": "7-bsCy1T8u5U",
        "outputId": "42f0804d-e7df-4296-a3bf-3cce7412ab61"
      },
      "source": [
        "# All processing\r\n",
        "texts_cleaned = (texts\r\n",
        "                 # delete code parts\r\n",
        "                 .apply(lambda x: re.sub('<code>(.|\\n)*?</code>', '', x))\r\n",
        "                  # remove HTML tags\r\n",
        "                 .apply(lambda x: re.sub('<[^<]+?>', '', x))\r\n",
        "                 .apply(lambda x: simple_preprocess(x, min_len=3, deacc=False))\r\n",
        "                 .apply(remove_stopwords)\r\n",
        "                 .apply(lambda x: lemmatization(x, nlp=nlp))\r\n",
        "                )\r\n",
        "\r\n",
        "random_display(texts_cleaned, sample)"
      ],
      "execution_count": 28,
      "outputs": [
        {
          "output_type": "stream",
          "text": [
            "['get', 'work', 'custom', 'view', 'try', 'get', 'follow', 'code', 'work', 'menu', 'instance', 'ready', 'show', 'width', 'zero', 'sample', 'code', 'topic'] \n",
            "--------------------\n",
            "\n",
            "\n",
            "['use', 'refer', 'negation', 'boolean', 'function', 'scala', 'try', 'use', 'negation', 'boolean', 'function', 'scala', 'get', 'error', 'refer', 'negation'] \n",
            "--------------------\n",
            "\n",
            "\n"
          ],
          "name": "stdout"
        }
      ]
    },
    {
      "cell_type": "markdown",
      "metadata": {
        "id": "KBuG-q7IdxKr"
      },
      "source": [
        "In our selected examples, we observe a much smaller number of remaining words, compared to the raw documents.\r\n",
        "\r\n",
        "Now is the time to normalize our text, namely to put it in a format in which our model will be able to understand it. To do this, we will first create a dictionary which will assign a unique identifier to each word present in all the documents. We also display the number of words present in this dictionary"
      ]
    },
    {
      "cell_type": "code",
      "metadata": {
        "colab": {
          "base_uri": "https://localhost:8080/"
        },
        "id": "IXT86pG3d5gU",
        "outputId": "9a048d2f-e976-483d-fa00-c2d7b3f401c5"
      },
      "source": [
        "dictionary = Dictionary(texts_cleaned)\r\n",
        "print(\"Taille du dictionnaire: \",len(dictionary))"
      ],
      "execution_count": 29,
      "outputs": [
        {
          "output_type": "stream",
          "text": [
            "Taille du dictionnaire:  145399\n"
          ],
          "name": "stdout"
        }
      ]
    },
    {
      "cell_type": "markdown",
      "metadata": {
        "id": "CTReLm0nd8vW"
      },
      "source": [
        "In order to make sure that these words can help us at least to find interesting patterns in our data at the time of modeling, we remove from the dictionary the words which do not appear in at least 50 different documents."
      ]
    },
    {
      "cell_type": "code",
      "metadata": {
        "colab": {
          "base_uri": "https://localhost:8080/"
        },
        "id": "AU98PSNed72q",
        "outputId": "e817f756-7f8e-495d-9718-dd4cecaed647"
      },
      "source": [
        "dictionary.filter_extremes(no_below=50)\r\n",
        "print(\"Taille du dictionnaire: \", len(dictionary))"
      ],
      "execution_count": 30,
      "outputs": [
        {
          "output_type": "stream",
          "text": [
            "Taille du dictionnaire:  6499\n"
          ],
          "name": "stdout"
        }
      ]
    },
    {
      "cell_type": "markdown",
      "metadata": {
        "id": "rY8VTwMyeAX6"
      },
      "source": [
        "With this filtering, we have removed more than 80% of the words in the dictionary, which could have been a source of noise once they became descriptors. Also, in order not to have too common words (like stopwords), let's take a look at the most common items"
      ]
    },
    {
      "cell_type": "code",
      "metadata": {
        "colab": {
          "base_uri": "https://localhost:8080/",
          "height": 460
        },
        "id": "e74EIDlbqTe8",
        "outputId": "4babaa29-f1f3-45e5-8487-f9bac715940b"
      },
      "source": [
        "words_sorted = sorted(dictionary.dfs.items(), key=lambda x: x[1], reverse=True)\r\n",
        "id2token = {value: key for key, value in dictionary.token2id.items()}\r\n",
        "\r\n",
        "list_count = [count for e, (i, count) in enumerate(words_sorted[:1000])]\r\n",
        "fig = plt.figure(1, figsize=(10, 7))\r\n",
        "sn.lineplot(x = range(0, 1000), y = list_count)\r\n",
        "plt.xticks(rotation=90)\r\n",
        "plt.title('Distribution : text')\r\n",
        "plt.show()"
      ],
      "execution_count": 35,
      "outputs": [
        {
          "output_type": "display_data",
          "data": {
            "image/png": "[encoded data removed]",
            "text/plain": [
              "<Figure size 720x504 with 1 Axes>"
            ]
          },
          "metadata": {
            "tags": [],
            "needs_background": "light"
          }
        }
      ]
    },
    {
      "cell_type": "code",
      "metadata": {
        "colab": {
          "base_uri": "https://localhost:8080/"
        },
        "id": "lbrxU4L5eC9y",
        "outputId": "faa938e5-75e9-44a0-ce4c-81331ad1df1a"
      },
      "source": [
        "print(\"Mots les plus fréquents du dictionnaire:\")\r\n",
        "for e, (i, count) in enumerate(words_sorted[:100]):\r\n",
        "    print(f\"{e+1:2} {id2token[i]:15} {count:5}\")"
      ],
      "execution_count": 37,
      "outputs": [
        {
          "output_type": "stream",
          "text": [
            "Mots les plus fréquents du dictionnaire:\n",
            " 1 get             92579\n",
            " 2 try             84191\n",
            " 3 like            76905\n",
            " 4 work            76314\n",
            " 5 code            75647\n",
            " 6 want            67063\n",
            " 7 way             63534\n",
            " 8 would           60402\n",
            " 9 follow          53701\n",
            "10 find            53344\n",
            "11 error           51980\n",
            "12 one             50780\n",
            "13 file            49105\n",
            "14 know            47014\n",
            "15 make            43991\n",
            "16 run             43631\n",
            "17 example         43220\n",
            "18 need            43022\n",
            "19 create          42933\n",
            "20 problem         39451\n",
            "21 see             39242\n",
            "22 look            37018\n",
            "23 seem            36943\n",
            "24 question        35461\n",
            "25 add             35427\n",
            "26 set             33683\n",
            "27 call            32120\n",
            "28 change          32064\n",
            "29 time            31854\n",
            "30 new             31761\n",
            "31 thank           31535\n",
            "32 function        30765\n",
            "33 could           30518\n",
            "34 method          30516\n",
            "35 value           30017\n",
            "36 app             28661\n",
            "37 help            28054\n",
            "38 give            27627\n",
            "39 application     26652\n",
            "40 possible        26609\n",
            "41 class           26450\n",
            "42 user            25264\n",
            "43 project         25019\n",
            "44 without         24484\n",
            "45 type            24424\n",
            "46 two             24089\n",
            "47 write           23987\n",
            "48 show            23548\n",
            "49 say             23225\n",
            "50 object          22990\n",
            "51 good            22910\n",
            "52 return          22834\n",
            "53 update          22408\n",
            "54 datum           22015\n",
            "55 solution        21916\n",
            "56 issue           21818\n",
            "57 result          21780\n",
            "58 line            21475\n",
            "59 different       21470\n",
            "60 think           21441\n",
            "61 case            21354\n",
            "62 version         20907\n",
            "63 able            20635\n",
            "64 edit            20460\n",
            "65 server          20418\n",
            "66 start           20364\n",
            "67 test            20155\n",
            "68 build           19696\n",
            "69 not             19313\n",
            "70 read            19301\n",
            "71 idea            19131\n",
            "72 simple          19000\n",
            "73 name            18955\n",
            "74 list            18940\n",
            "75 thing           18384\n",
            "76 first           18335\n",
            "77 may             18007\n",
            "78 check           17581\n",
            "79 java            17448\n",
            "80 understand      17418\n",
            "81 answer          17014\n",
            "82 page            16929\n",
            "83 take            16817\n",
            "84 python          16666\n",
            "85 command         16508\n",
            "86 can             16476\n",
            "87 com             16233\n",
            "88 net             15973\n",
            "89 since           15954\n",
            "90 string          15891\n",
            "91 html            15514\n",
            "92 http            15463\n",
            "93 android         15263\n",
            "94 go              15238\n",
            "95 number          15139\n",
            "96 output          15110\n",
            "97 base            14890\n",
            "98 contain         14730\n",
            "99 point           14572\n",
            "100 mean            14568\n"
          ],
          "name": "stdout"
        }
      ]
    },
    {
      "cell_type": "markdown",
      "metadata": {
        "id": "L1K87_jZeFs6"
      },
      "source": [
        "We decide to delete the 77 most frequent words + 13 others bad words.\r\n"
      ]
    },
    {
      "cell_type": "code",
      "metadata": {
        "id": "Rp3XJ4mheIhT"
      },
      "source": [
        "to_delete = [id2token[i] for e, (i, count) in enumerate(words_sorted[:77])]\r\n",
        "\r\n",
        "list_append = ['point', 'mean', 'string', 'since', 'base', 'go', 'name', 'may',\r\n",
        "               'first', 'can', 'page', 'number', 'answer']\r\n",
        "\r\n",
        "for word in list_append:\r\n",
        "  to_delete.append(word) \r\n",
        "\r\n",
        "bad_ids = [dictionary.token2id[token] for token in to_delete]\r\n",
        "\r\n",
        "dictionary.filter_tokens(bad_ids=bad_ids)"
      ],
      "execution_count": 55,
      "outputs": []
    },
    {
      "cell_type": "markdown",
      "metadata": {
        "id": "3VAVSzuYeLRr"
      },
      "source": [
        "And finally, to conclude our pre-processing part, we create our bag of words. This representation makes it possible to count the number of occurrences of each word in the dictionary for each document. The resulting dataframe will serve as input data to our model"
      ]
    },
    {
      "cell_type": "code",
      "metadata": {
        "colab": {
          "base_uri": "https://localhost:8080/"
        },
        "id": "7pD2cYBbeOqL",
        "outputId": "4e12ae4b-fdf6-49d4-8303-bfd856c5dbb5"
      },
      "source": [
        "corpus = texts_cleaned.apply(dictionary.doc2bow)\r\n",
        "random_display(corpus, sample)"
      ],
      "execution_count": 56,
      "outputs": [
        {
          "output_type": "stream",
          "text": [
            "[(100, 1), (104, 1), (267, 1), (299, 1), (370, 1), (398, 1), (492, 1), (787, 1), (1330, 1)] \n",
            "--------------------\n",
            "\n",
            "\n",
            "[(1023, 2), (1381, 2), (2080, 2), (4466, 3)] \n",
            "--------------------\n",
            "\n",
            "\n"
          ],
          "name": "stdout"
        }
      ]
    },
    {
      "cell_type": "markdown",
      "metadata": {
        "id": "ITcCtLXPe20b"
      },
      "source": [
        "I save my objects"
      ]
    },
    {
      "cell_type": "code",
      "metadata": {
        "colab": {
          "base_uri": "https://localhost:8080/"
        },
        "id": "iL2-dmd9e3EK",
        "outputId": "139d1a88-1694-4188-b73d-dfaa5b250017"
      },
      "source": [
        "joblib.dump(corpus, 'corpus.sav')\r\n",
        "joblib.dump(dictionary, 'dictionary.sav')\r\n",
        "joblib.dump(df, 'df.sav')\r\n",
        "joblib.dump(texts_cleaned, 'texts_cleaned.sav')"
      ],
      "execution_count": 57,
      "outputs": [
        {
          "output_type": "execute_result",
          "data": {
            "text/plain": [
              "['texts_cleaned.sav']"
            ]
          },
          "metadata": {
            "tags": []
          },
          "execution_count": 57
        }
      ]
    }
  ]
}