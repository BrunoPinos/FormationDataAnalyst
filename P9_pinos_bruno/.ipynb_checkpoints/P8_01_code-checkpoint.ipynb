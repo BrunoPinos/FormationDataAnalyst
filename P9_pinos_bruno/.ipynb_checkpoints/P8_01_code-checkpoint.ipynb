{
 "cells": [
  {
   "cell_type": "code",
   "execution_count": 1,
   "metadata": {},
   "outputs": [
    {
     "name": "stderr",
     "output_type": "stream",
     "text": [
      "\n",
      "Attaching package: 'zoo'\n",
      "\n",
      "The following objects are masked from 'package:base':\n",
      "\n",
      "    as.Date, as.Date.numeric\n",
      "\n",
      "Registered S3 method overwritten by 'quantmod':\n",
      "  method            from\n",
      "  as.zoo.data.frame zoo \n"
     ]
    }
   ],
   "source": [
    "options(warn = -2)\n",
    "\n",
    "###On télécharge les libraries utiles\n",
    "library(dplyr, quietly = TRUE, , warn.conflicts = FALSE)\n",
    "library(ggplot2, quietly = TRUE, warn.conflicts = FALSE)\n",
    "library(tidyr, quietly = TRUE, warn.conflicts = FALSE)\n",
    "library(rstatix, quietly = TRUE, warn.conflicts = FALSE)\n",
    "library(car, quietly = TRUE, warn.conflicts = FALSE)\n",
    "library(lmtest, quietly = TRUE, warn.conflicts = FALSE)\n",
    "library(forecast, quietly = TRUE, warn.conflicts = FALSE)\n",
    "library(infer, quietly = TRUE, warn.conflicts = FALSE)\n",
    "library(caschrono, quietly = TRUE, warn.conflicts = FALSE)\n",
    "\n",
    "select<-dplyr::select\n",
    "filter<-dplyr::filter\n",
    "\n",
    "setwd(\"C:/Users/Bruno/Desktop/ouvrablesFormations/P8_pinos_bruno\")\n",
    "\n"
   ]
  },
  {
   "cell_type": "code",
   "execution_count": 3,
   "metadata": {
    "collapsed": true
   },
   "outputs": [],
   "source": [
    "###fonction########################################################\n",
    "f_graph<- function(fit,p){\n",
    "\n",
    "df_function<-fit$model  \n",
    "alpha <- 0.05\n",
    "n <- dim(df_function)[1]\n",
    "analyses <- data.frame(obs= 1:n)\n",
    "analyses$levier <- hat(model.matrix(fit))\n",
    "seuil_levier <- 2*p/n\n",
    "\n",
    "analyses$rstudent <- rstudent(fit)\n",
    "seuil_rstudent <- qt(1-alpha/2,n-p-1)\n",
    "\n",
    "influence <- influence.measures(fit)\n",
    "names(influence)\n",
    "colnames(influence$infmat)\n",
    "\n",
    "analyses$dcook <- influence$infmat[,\"cook.d\"]\n",
    "seuil_dcook <- 4/(n-p)\n",
    "\n",
    "layout(matrix(1:4, 2, 2))\n",
    "\n",
    "\n",
    "return(\n",
    "  list(\n",
    "   plot(fit),\n",
    "    \n",
    "    ggplot(data.frame(fit$residuals),aes(fit.residuals)) + \n",
    " geom_histogram(aes(y=..count..), colour=\"blue\", fill= \"white\")+\n",
    "  geom_vline(aes(xintercept=mean(fit.residuals), color=\"red\"))+\n",
    "  xlab(\"Residuals values\")+ ylab(\"Number of residuals\"),\n",
    "    \n",
    "ggplot(data=analyses,aes(x=obs, y=levier))+\n",
    "   geom_bar(stat=\"identity\",colour=\"steelblue\")+\n",
    "   geom_hline(yintercept=seuil_levier,col=\"red\")+\n",
    "   theme_minimal()+\n",
    "   xlab(\"Observation\")+\n",
    "   ylab(\"Leviers\")+\n",
    "   scale_x_continuous(breaks=seq(0,n,by=5)),\n",
    "\n",
    "ggplot(data=analyses,aes(x=obs,y=rstudent))+\n",
    "  geom_bar(stat=\"identity\",colour=\"steelblue\")+\n",
    "  geom_hline(yintercept=-seuil_rstudent,col=\"red\")+\n",
    "  geom_hline(yintercept=seuil_rstudent,col=\"red\")+\n",
    "  theme_minimal()+\n",
    "  xlab(\"observation\")+\n",
    "  ylab(\"Résidus studentisés\")+\n",
    "  scale_x_continuous(breaks=seq(0,n,by=5)),\n",
    "\n",
    "summary(fit),\n",
    "\n",
    "vif(fit),\n",
    "\n",
    "shapiro.test(fit$residuals),\n",
    "\n",
    "ad.test(fit$residuals),\n",
    "\n",
    "ks.test(fit$residuals, \"pnorm\")\n",
    ")\n",
    ")\n",
    "}"
   ]
  },
  {
   "cell_type": "code",
   "execution_count": 4,
   "metadata": {},
   "outputs": [
    {
     "data": {
      "image/png": "[encoded data removed]",
      "text/plain": [
       "plot without title"
      ]
     },
     "metadata": {},
     "output_type": "display_data"
    }
   ],
   "source": [
    "energie<-read.csv(\"energie.csv\", sep = \",\", encoding = \"latin1\")\n",
    "\n",
    "energie$Mois<-energie$Mois%>%unlist()%>%as.vector()\n",
    "\n",
    "#L'année 2020 comporte des données douteuses on l'enlève\n",
    "conso_dep<-energie%>%\n",
    "  filter(Territoire != \"France\" & Mois > \"2013-12\")%>%\n",
    "  select(Date = Mois, Territoire, \"Qualité\", Consommation.totale)\n",
    "\n",
    "\n",
    "\n",
    "conso<-energie%>%\n",
    "  filter(Territoire == \"France\" & Mois < \"2020-01\")%>%\n",
    "  select(Date = Mois, Territoire, \"Qualité\", Conso = Consommation.totale)\n",
    "\n",
    "conso$time<-1:96\n",
    "#conso$Mois<-conso$Mois%>%as.factor()\n",
    "\n",
    "ggplot(conso, aes(x = time, y = Conso)) + \n",
    "  geom_path(col = \"royalblue3\")+ \n",
    "  scale_x_continuous(breaks=seq(1,96,12),\n",
    "                   labels = c(\"2012\",\"2013\",\"2014\",\"2015\",\"2016\",\"2017\",\n",
    "                              \"2018\",\"2019\"))"
   ]
  },
  {
   "cell_type": "markdown",
   "metadata": {},
   "source": []
  }
 ],
 "metadata": {
  "kernelspec": {
   "display_name": "R",
   "language": "R",
   "name": "ir"
  },
  "language_info": {
   "codemirror_mode": "r",
   "file_extension": ".r",
   "mimetype": "text/x-r-source",
   "name": "R",
   "pygments_lexer": "r",
   "version": "3.6.1"
  }
 },
 "nbformat": 4,
 "nbformat_minor": 4
}
