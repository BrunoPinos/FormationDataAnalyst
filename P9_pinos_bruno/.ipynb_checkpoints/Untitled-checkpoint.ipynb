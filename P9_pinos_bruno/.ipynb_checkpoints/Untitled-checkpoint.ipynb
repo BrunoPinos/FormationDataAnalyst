{
 "cells": [
  {
   "cell_type": "code",
   "execution_count": 1,
   "metadata": {},
   "outputs": [
    {
     "name": "stderr",
     "output_type": "stream",
     "text": [
      "reldist: Relative Distribution Methods\n",
      "Version 1.6-6 created on 2016-10-07.\n",
      "copyright (c) 2003, Mark S. Handcock, University of California-Los Angeles\n",
      " For citation information, type citation(\"reldist\").\n",
      " Type help(package=\"reldist\") to get started.\n",
      "\n",
      "Loading required package: carData\n",
      "Loading required package: zoo\n",
      "\n",
      "Attaching package: 'zoo'\n",
      "\n",
      "The following objects are masked from 'package:base':\n",
      "\n",
      "    as.Date, as.Date.numeric\n",
      "\n",
      "corrplot 0.84 loaded\n"
     ]
    }
   ],
   "source": [
    "options(warn = -1)\n",
    "###On télécharge les libraries utiles\n",
    "library(dplyr, warn.conflicts = FALSE)\n",
    "library(ggplot2, warn.conflicts = FALSE)\n",
    "library(gglorenz, warn.conflicts = FALSE)\n",
    "library(tidyr, warn.conflicts = FALSE)\n",
    "library(reshape2, warn.conflicts = FALSE)\n",
    "library(reldist, warn.conflicts = FALSE)\n",
    "library(rstatix, warn.conflicts = FALSE)\n",
    "library(car, warn.conflicts = FALSE)\n",
    "library(lmtest, warn.conflicts = FALSE)\n",
    "library(olsrr, warn.conflicts = FALSE)\n",
    "library(nortest, warn.conflicts = FALSE)\n",
    "library(corrplot, warn.conflicts = FALSE)\n",
    "select<-dplyr::select\n",
    "\n",
    "setwd(\"C:/Users/Bruno/Desktop/ouvrablesFormations/P7_pinos_bruno\")"
   ]
  },
  {
   "cell_type": "code",
   "execution_count": 2,
   "metadata": {},
   "outputs": [
    {
     "data": {
      "text/html": [
       "<table>\n",
       "<thead><tr><th scope=col>country</th><th scope=col>year_survey</th><th scope=col>quantile</th><th scope=col>nb_quantiles</th><th scope=col>income</th><th scope=col>gdpppp</th></tr></thead>\n",
       "<tbody>\n",
       "\t<tr><td>ALB      </td><td>2008     </td><td>1        </td><td>100      </td><td> 728.8980</td><td>7297     </td></tr>\n",
       "\t<tr><td>ALB      </td><td>2008     </td><td>2        </td><td>100      </td><td> 916.6623</td><td>7297     </td></tr>\n",
       "\t<tr><td>ALB      </td><td>2008     </td><td>3        </td><td>100      </td><td>1010.9160</td><td>7297     </td></tr>\n",
       "\t<tr><td>ALB      </td><td>2008     </td><td>4        </td><td>100      </td><td>1086.9078</td><td>7297     </td></tr>\n",
       "\t<tr><td>ALB      </td><td>2008     </td><td>5        </td><td>100      </td><td>1132.6997</td><td>7297     </td></tr>\n",
       "\t<tr><td>ALB      </td><td>2008     </td><td>6        </td><td>100      </td><td>1171.1412</td><td>7297     </td></tr>\n",
       "</tbody>\n",
       "</table>\n"
      ],
      "text/latex": [
       "\\begin{tabular}{r|llllll}\n",
       " country & year\\_survey & quantile & nb\\_quantiles & income & gdpppp\\\\\n",
       "\\hline\n",
       "\t ALB       & 2008      & 1         & 100       &  728.8980 & 7297     \\\\\n",
       "\t ALB       & 2008      & 2         & 100       &  916.6623 & 7297     \\\\\n",
       "\t ALB       & 2008      & 3         & 100       & 1010.9160 & 7297     \\\\\n",
       "\t ALB       & 2008      & 4         & 100       & 1086.9078 & 7297     \\\\\n",
       "\t ALB       & 2008      & 5         & 100       & 1132.6997 & 7297     \\\\\n",
       "\t ALB       & 2008      & 6         & 100       & 1171.1412 & 7297     \\\\\n",
       "\\end{tabular}\n"
      ],
      "text/markdown": [
       "\n",
       "| country | year_survey | quantile | nb_quantiles | income | gdpppp |\n",
       "|---|---|---|---|---|---|\n",
       "| ALB       | 2008      | 1         | 100       |  728.8980 | 7297      |\n",
       "| ALB       | 2008      | 2         | 100       |  916.6623 | 7297      |\n",
       "| ALB       | 2008      | 3         | 100       | 1010.9160 | 7297      |\n",
       "| ALB       | 2008      | 4         | 100       | 1086.9078 | 7297      |\n",
       "| ALB       | 2008      | 5         | 100       | 1132.6997 | 7297      |\n",
       "| ALB       | 2008      | 6         | 100       | 1171.1412 | 7297      |\n",
       "\n"
      ],
      "text/plain": [
       "  country year_survey quantile nb_quantiles income    gdpppp\n",
       "1 ALB     2008        1        100           728.8980 7297  \n",
       "2 ALB     2008        2        100           916.6623 7297  \n",
       "3 ALB     2008        3        100          1010.9160 7297  \n",
       "4 ALB     2008        4        100          1086.9078 7297  \n",
       "5 ALB     2008        5        100          1132.6997 7297  \n",
       "6 ALB     2008        6        100          1171.1412 7297  "
      ]
     },
     "metadata": {},
     "output_type": "display_data"
    }
   ],
   "source": [
    "###Mission 1#########################################################\n",
    "\n",
    "###On charge le tableau principal du projet de la WID\n",
    "df<-read.csv(\"data-projet7.csv\")\n",
    "\n",
    "df$income<-df$income%>%as.vector()%>%sub(\",\",\".\",.)%>%\n",
    "  as.numeric()\n",
    "\n",
    "df$gdpppp<-df$gdpppp%>%as.vector()%>%sub(\",\",\".\",.)%>%\n",
    "  as.vector()%>%as.numeric()\n",
    "\n",
    "###Je supprime les pays dont les données sont trop éloignées de 2008\n",
    "###car mon étude est faite sur cette année là\n",
    "###Je supprime des pays qui poseront problème plutard\n",
    "df<-filter(df, year_survey %in% 2006:2010)%>%\n",
    "  filter(!(country %in% c(\"FJI\", \"XKX\", \"PSE\")))\n",
    "\n",
    "###J'augmente de 3.6% les revenu de 2006 car la croissance du gdpppp\n",
    "###mondial a été de 3.6% entre 2006 et 2008\n",
    "df[df$year_survey == 2006,\"gdpppp\"]<-\n",
    "  df[df$year_survey == 2006,\"gdpppp\"]*1.036\n",
    "\n",
    "df[df$year_survey == 2006,\"income\"]<-\n",
    "  df[df$year_survey == 2006,\"income\"]*1.036\n",
    "\n",
    "###Je divise par 0.97 les pays étudié en 2009 car le gdpppp mondiale\n",
    "###a chuté de 3% entre 2008 et 2009\n",
    "df[df$year_survey == 2009,\"gdpppp\"]<-\n",
    "  df[df$year_survey == 2009,\"gdpppp\"]/0.97\n",
    "\n",
    "df[df$year_survey == 2009,\"income\"]<-\n",
    "  df[df$year_survey == 2009,\"income\"]/0.97\n",
    "\n",
    "###Les autres variations sont négligeable je laisse les données 2007 et \n",
    "###2011 telles quelles\n",
    "\n",
    "###Je considère que mes données correspondent à l'année 2008\n",
    "###après les ajustements\n",
    "df$year_survey<-2008\n",
    "\n",
    "###Il manquait un percentile à la lituanie je les ajouté en faisant\n",
    "###la moyenne du précédant et du suivant\n",
    "df<-df%>%rbind(df[5940,])   \n",
    "\n",
    "df[11100,\"quantile\"]<-41\n",
    "\n",
    "df[11100,\"income\"]<-(4868.4507 + 4895.8306)/2\n",
    "\n",
    "df<-df%>%arrange(country, quantile)\n",
    "\n",
    "rownames(df)<-1:11100\n",
    "\n",
    "head(df)"
   ]
  },
  {
   "cell_type": "code",
   "execution_count": 3,
   "metadata": {},
   "outputs": [
    {
     "name": "stderr",
     "output_type": "stream",
     "text": [
      "Joining, by = \"country\"\n"
     ]
    },
    {
     "data": {
      "text/html": [
       "<table>\n",
       "<thead><tr><th scope=col>country</th><th scope=col>country_full</th><th scope=col>year_survey</th><th scope=col>quantile</th><th scope=col>nb_quantiles</th><th scope=col>income</th><th scope=col>gdpppp</th></tr></thead>\n",
       "<tbody>\n",
       "\t<tr><td>ALB      </td><td>Albanie  </td><td>2008     </td><td>1        </td><td>100      </td><td> 728.8980</td><td>7297     </td></tr>\n",
       "\t<tr><td>ALB      </td><td>Albanie  </td><td>2008     </td><td>2        </td><td>100      </td><td> 916.6623</td><td>7297     </td></tr>\n",
       "\t<tr><td>ALB      </td><td>Albanie  </td><td>2008     </td><td>3        </td><td>100      </td><td>1010.9160</td><td>7297     </td></tr>\n",
       "\t<tr><td>ALB      </td><td>Albanie  </td><td>2008     </td><td>4        </td><td>100      </td><td>1086.9078</td><td>7297     </td></tr>\n",
       "\t<tr><td>ALB      </td><td>Albanie  </td><td>2008     </td><td>5        </td><td>100      </td><td>1132.6997</td><td>7297     </td></tr>\n",
       "\t<tr><td>ALB      </td><td>Albanie  </td><td>2008     </td><td>6        </td><td>100      </td><td>1171.1412</td><td>7297     </td></tr>\n",
       "</tbody>\n",
       "</table>\n"
      ],
      "text/latex": [
       "\\begin{tabular}{r|lllllll}\n",
       " country & country\\_full & year\\_survey & quantile & nb\\_quantiles & income & gdpppp\\\\\n",
       "\\hline\n",
       "\t ALB       & Albanie   & 2008      & 1         & 100       &  728.8980 & 7297     \\\\\n",
       "\t ALB       & Albanie   & 2008      & 2         & 100       &  916.6623 & 7297     \\\\\n",
       "\t ALB       & Albanie   & 2008      & 3         & 100       & 1010.9160 & 7297     \\\\\n",
       "\t ALB       & Albanie   & 2008      & 4         & 100       & 1086.9078 & 7297     \\\\\n",
       "\t ALB       & Albanie   & 2008      & 5         & 100       & 1132.6997 & 7297     \\\\\n",
       "\t ALB       & Albanie   & 2008      & 6         & 100       & 1171.1412 & 7297     \\\\\n",
       "\\end{tabular}\n"
      ],
      "text/markdown": [
       "\n",
       "| country | country_full | year_survey | quantile | nb_quantiles | income | gdpppp |\n",
       "|---|---|---|---|---|---|---|\n",
       "| ALB       | Albanie   | 2008      | 1         | 100       |  728.8980 | 7297      |\n",
       "| ALB       | Albanie   | 2008      | 2         | 100       |  916.6623 | 7297      |\n",
       "| ALB       | Albanie   | 2008      | 3         | 100       | 1010.9160 | 7297      |\n",
       "| ALB       | Albanie   | 2008      | 4         | 100       | 1086.9078 | 7297      |\n",
       "| ALB       | Albanie   | 2008      | 5         | 100       | 1132.6997 | 7297      |\n",
       "| ALB       | Albanie   | 2008      | 6         | 100       | 1171.1412 | 7297      |\n",
       "\n"
      ],
      "text/plain": [
       "  country country_full year_survey quantile nb_quantiles income    gdpppp\n",
       "1 ALB     Albanie      2008        1        100           728.8980 7297  \n",
       "2 ALB     Albanie      2008        2        100           916.6623 7297  \n",
       "3 ALB     Albanie      2008        3        100          1010.9160 7297  \n",
       "4 ALB     Albanie      2008        4        100          1086.9078 7297  \n",
       "5 ALB     Albanie      2008        5        100          1132.6997 7297  \n",
       "6 ALB     Albanie      2008        6        100          1171.1412 7297  "
      ]
     },
     "metadata": {},
     "output_type": "display_data"
    },
    {
     "data": {
      "text/html": [
       "11100"
      ],
      "text/latex": [
       "11100"
      ],
      "text/markdown": [
       "11100"
      ],
      "text/plain": [
       "[1] 11100"
      ]
     },
     "metadata": {},
     "output_type": "display_data"
    }
   ],
   "source": [
    "###Je charge une table pour faire la correspondance entre \n",
    "###l'écriture en 3 lettres des pays et le nom complet\n",
    "country_full<-read.csv(\"sql-pays.csv\", encoding = \"UTF-8\", header = FALSE)%>%\n",
    "  select(\"country\" = V4, \"country_full\" = V5)\n",
    "\n",
    "country_full$country<-country_full$country%>%as.vector()\n",
    "country_full$country_full<-country_full$country_full%>%as.vector()\n",
    "\n",
    "###J'en ajoute deux qui sont présent dans mon étude et pas sur le fichier\n",
    "country_full[242,]<-c(\"SRB\",\"Serbie\")\n",
    "country_full[243,]<-c(\"MNE\",\"Monténégro\")\n",
    "\n",
    "###Je change le nom de la macédoine du nord (trop long)\n",
    "country_full[country_full$country == \"MKD\", \"country_full\"]<-\"Macédoine du Nord\"\n",
    "\n",
    "###Je fait une jointure entre mes deux tables pour ajouter la colonne\n",
    "###nom complet a ma table de base\n",
    "dfs<-inner_join(country_full,df)\n",
    "\n",
    "head(dfs)"
   ]
  },
  {
   "cell_type": "code",
   "execution_count": 4,
   "metadata": {},
   "outputs": [
    {
     "name": "stderr",
     "output_type": "stream",
     "text": [
      "Joining, by = \"country_full\"\n"
     ]
    },
    {
     "data": {
      "text/html": [
       "<table>\n",
       "<thead><tr><th scope=col>country</th><th scope=col>country_full</th><th scope=col>year_survey</th><th scope=col>quantile</th><th scope=col>nb_quantiles</th><th scope=col>income</th><th scope=col>gdpppp</th><th scope=col>pop</th></tr></thead>\n",
       "<tbody>\n",
       "\t<tr><td>ALB      </td><td>Albanie  </td><td>2008     </td><td>1        </td><td>100      </td><td> 728.8980</td><td>7297     </td><td>3002.678 </td></tr>\n",
       "\t<tr><td>ALB      </td><td>Albanie  </td><td>2008     </td><td>2        </td><td>100      </td><td> 916.6623</td><td>7297     </td><td>3002.678 </td></tr>\n",
       "\t<tr><td>ALB      </td><td>Albanie  </td><td>2008     </td><td>3        </td><td>100      </td><td>1010.9160</td><td>7297     </td><td>3002.678 </td></tr>\n",
       "\t<tr><td>ALB      </td><td>Albanie  </td><td>2008     </td><td>4        </td><td>100      </td><td>1086.9078</td><td>7297     </td><td>3002.678 </td></tr>\n",
       "\t<tr><td>ALB      </td><td>Albanie  </td><td>2008     </td><td>5        </td><td>100      </td><td>1132.6997</td><td>7297     </td><td>3002.678 </td></tr>\n",
       "\t<tr><td>ALB      </td><td>Albanie  </td><td>2008     </td><td>6        </td><td>100      </td><td>1171.1412</td><td>7297     </td><td>3002.678 </td></tr>\n",
       "</tbody>\n",
       "</table>\n"
      ],
      "text/latex": [
       "\\begin{tabular}{r|llllllll}\n",
       " country & country\\_full & year\\_survey & quantile & nb\\_quantiles & income & gdpppp & pop\\\\\n",
       "\\hline\n",
       "\t ALB       & Albanie   & 2008      & 1         & 100       &  728.8980 & 7297      & 3002.678 \\\\\n",
       "\t ALB       & Albanie   & 2008      & 2         & 100       &  916.6623 & 7297      & 3002.678 \\\\\n",
       "\t ALB       & Albanie   & 2008      & 3         & 100       & 1010.9160 & 7297      & 3002.678 \\\\\n",
       "\t ALB       & Albanie   & 2008      & 4         & 100       & 1086.9078 & 7297      & 3002.678 \\\\\n",
       "\t ALB       & Albanie   & 2008      & 5         & 100       & 1132.6997 & 7297      & 3002.678 \\\\\n",
       "\t ALB       & Albanie   & 2008      & 6         & 100       & 1171.1412 & 7297      & 3002.678 \\\\\n",
       "\\end{tabular}\n"
      ],
      "text/markdown": [
       "\n",
       "| country | country_full | year_survey | quantile | nb_quantiles | income | gdpppp | pop |\n",
       "|---|---|---|---|---|---|---|---|\n",
       "| ALB       | Albanie   | 2008      | 1         | 100       |  728.8980 | 7297      | 3002.678  |\n",
       "| ALB       | Albanie   | 2008      | 2         | 100       |  916.6623 | 7297      | 3002.678  |\n",
       "| ALB       | Albanie   | 2008      | 3         | 100       | 1010.9160 | 7297      | 3002.678  |\n",
       "| ALB       | Albanie   | 2008      | 4         | 100       | 1086.9078 | 7297      | 3002.678  |\n",
       "| ALB       | Albanie   | 2008      | 5         | 100       | 1132.6997 | 7297      | 3002.678  |\n",
       "| ALB       | Albanie   | 2008      | 6         | 100       | 1171.1412 | 7297      | 3002.678  |\n",
       "\n"
      ],
      "text/plain": [
       "  country country_full year_survey quantile nb_quantiles income    gdpppp\n",
       "1 ALB     Albanie      2008        1        100           728.8980 7297  \n",
       "2 ALB     Albanie      2008        2        100           916.6623 7297  \n",
       "3 ALB     Albanie      2008        3        100          1010.9160 7297  \n",
       "4 ALB     Albanie      2008        4        100          1086.9078 7297  \n",
       "5 ALB     Albanie      2008        5        100          1132.6997 7297  \n",
       "6 ALB     Albanie      2008        6        100          1171.1412 7297  \n",
       "  pop     \n",
       "1 3002.678\n",
       "2 3002.678\n",
       "3 3002.678\n",
       "4 3002.678\n",
       "5 3002.678\n",
       "6 3002.678"
      ]
     },
     "metadata": {},
     "output_type": "display_data"
    },
    {
     "data": {
      "text/html": [
       "11100"
      ],
      "text/latex": [
       "11100"
      ],
      "text/markdown": [
       "11100"
      ],
      "text/plain": [
       "[1] 11100"
      ]
     },
     "metadata": {},
     "output_type": "display_data"
    }
   ],
   "source": [
    "###Je charge une table de la FAO avec la pop en 2008 des pays\n",
    "fao<-read.csv(\"pop_2008.csv\",\n",
    "              encoding = \"UTF-8\")%>%\n",
    "  select(\"country_full\" = \"Zone\", \"pop\" = \"Valeur\")\n",
    "\n",
    "###Je modifie les country_full qui ne correspondent pas exactement\n",
    "fao$country_full<-fao$country_full%>%as.vector()\n",
    "\n",
    "fao$country_full[fao$country_full == \"États-Unis d'Amérique\"]<-\"États-Unis\"\n",
    "\n",
    "fao$country_full[fao$country_full == \n",
    "               \"Bolivie (État plurinational de)\"]<-\"Bolivie\"\n",
    "\n",
    "fao$country_full[fao$country_full == \"République centrafricaine\"]<-\n",
    "  \"République Centrafricaine\"\n",
    "\n",
    "fao$country_full[fao$country_full == \"Chine, continentale\"]<-\"Chine\"\n",
    "\n",
    "fao$country_full[fao$country_full == \"Chine, Taiwan Province de\"]<-\n",
    "  \"Taïwan\"\n",
    "\n",
    "fao$country_full[fao$country_full == \"République démocratique du Congo\"]<-\n",
    "  \"République Démocratique du Congo\"\n",
    "\n",
    "fao$country_full[fao$country_full == \"Tchéquie\"]<-\"République Tchèque\"\n",
    "\n",
    "fao$country_full[fao$country_full == \"République dominicaine\"]<-\n",
    "  \"République Dominicaine\"\n",
    "\n",
    "fao$country_full[fao$country_full == \"Iran (République islamique d')\"]<-\n",
    "  \"République Islamique d'Iran\"\n",
    "\n",
    "fao$country_full[fao$country_full == \"République démocratique populaire lao\"]<-\n",
    "  \"République Démocratique Populaire Lao\"\n",
    "\n",
    "fao$country_full[fao$country_full == \"Soudan (ex)\"]<-\"Soudan\"\n",
    "\n",
    "fao$country_full[fao$country_full == \"Eswatini\"]<-\"Swaziland\"\n",
    "\n",
    "fao$country_full[fao$country_full == \"République arabe syrienne\"]<-\n",
    "  \"République Arabe Syrienne\"\n",
    "\n",
    "fao$country_full[fao$country_full == \n",
    "  \"Royaume-Uni de Grande-Bretagne et d'Irlande du Nord\"]<-\n",
    "  \"Royaume-Uni\"\n",
    "\n",
    "fao$country_full[fao$country_full == \n",
    "               \"Venezuela (République bolivarienne du)\"]<-\"Venezuela\"\n",
    "\t\n",
    "\n",
    "###Je fais une jointure entre ma table principale et la table de la FAO\n",
    "###pour obtenir ma colonne pop\n",
    "df<-inner_join(dfs,fao)\n",
    "\n",
    "head(df)"
   ]
  },
  {
   "cell_type": "code",
   "execution_count": 5,
   "metadata": {},
   "outputs": [
    {
     "name": "stdout",
     "output_type": "stream",
     "text": [
      "le nombre de pays analysé est 111 \n",
      "la population analysé en millier est 6202566 soit 88.1 % de la population mondiale en 2008"
     ]
    }
   ],
   "source": [
    "###Je calcul le nombre de pays analysé dans l'étude\n",
    "pays_analyse<-nrow(df)/100\n",
    "cat(\"le nombre de pays analysé est\",pays_analyse,\"\\n\")\n",
    "\n",
    "###Je calcul la pop analysée dans l'étude\n",
    "pop_analyse<-sum(df$pop)/100\n",
    "cat(\"la population analysé en millier est\",pop_analyse)\n",
    "\n",
    "###Je calcul le pourcentage de pop analysé dans l'étude\n",
    "prct_pop<-round(pop_analyse*100/7041194.301,1)\n",
    "cat(\" soit\",prct_pop,\"% de la population mondiale en 2008\")"
   ]
  },
  {
   "cell_type": "code",
   "execution_count": 6,
   "metadata": {},
   "outputs": [
    {
     "data": {
      "image/png": "[encoded data removed]",
      "text/plain": [
       "plot without title"
      ]
     },
     "metadata": {},
     "output_type": "display_data"
    }
   ],
   "source": [
    "###Mission2##########################################################\n",
    "\n",
    "###Je cré un vecteur avec les pays qui vont m'intéresser plus\n",
    "###particulièrement pour la suite\n",
    "liste_pays<-c(\"FRA\",\"SWE\",\"BRA\",\"JPN\",\"DEU\",\"USA\",\"GHA\",\"COL\",\"UGA\",\n",
    "              \"BOL\")\n",
    "              \n",
    "###Je cré une table avec seulement ces pays là\n",
    "dff<-df%>%filter(country %in% \n",
    "  liste_pays)\n",
    "\n",
    "###Je trace la courbe du revenu par rapport à la classe pour mes 10 pays\n",
    "ggplot(dff,\n",
    "       aes(x = quantile, y = income))+\n",
    "  geom_line(aes(colour = country))"
   ]
  },
  {
   "cell_type": "code",
   "execution_count": 7,
   "metadata": {},
   "outputs": [
    {
     "data": {
      "image/png": "[encoded data removed]",
      "text/plain": [
       "plot without title"
      ]
     },
     "metadata": {},
     "output_type": "display_data"
    }
   ],
   "source": [
    "###Je trace la même chose mais avec une échelle log10\n",
    "ggplot(dff,\n",
    "       aes(x = quantile, y = income))+\n",
    "  geom_line(aes(colour = country)) +\n",
    "  scale_y_continuous(trans='log10')"
   ]
  },
  {
   "cell_type": "code",
   "execution_count": 8,
   "metadata": {},
   "outputs": [
    {
     "data": {
      "image/png": "[encoded data removed]",
      "text/plain": [
       "plot without title"
      ]
     },
     "metadata": {},
     "output_type": "display_data"
    }
   ],
   "source": [
    "###Je trace les courbe de lorenz de ces pays\n",
    "ggplot(dff, aes(income)) + \n",
    "  stat_lorenz(aes(colour = country)) + \n",
    "  geom_abline(color = \"grey\") + \n",
    "  xlab(\"Distribution cumulative de la population\") +\n",
    "  ylab(\"Distribution cumulative du revenu\")"
   ]
  },
  {
   "cell_type": "code",
   "execution_count": 9,
   "metadata": {},
   "outputs": [
    {
     "name": "stderr",
     "output_type": "stream",
     "text": [
      "New names:\n",
      "* NA -> ...4\n"
     ]
    },
    {
     "data": {
      "text/html": [
       "<table>\n",
       "<thead><tr><th scope=col>country_full</th><th scope=col>gini</th></tr></thead>\n",
       "<tbody>\n",
       "\t<tr><td>Slovénie          </td><td>23.1              </td></tr>\n",
       "\t<tr><td>Slovaquie         </td><td>24.7              </td></tr>\n",
       "\t<tr><td>République Tchèque</td><td>25.3              </td></tr>\n",
       "\t<tr><td>Suède             </td><td>25.5              </td></tr>\n",
       "\t<tr><td>Ukraine           </td><td>25.5              </td></tr>\n",
       "</tbody>\n",
       "</table>\n"
      ],
      "text/latex": [
       "\\begin{tabular}{r|ll}\n",
       " country\\_full & gini\\\\\n",
       "\\hline\n",
       "\t Slovénie           & 23.1              \\\\\n",
       "\t Slovaquie          & 24.7              \\\\\n",
       "\t République Tchèque & 25.3              \\\\\n",
       "\t Suède              & 25.5              \\\\\n",
       "\t Ukraine            & 25.5              \\\\\n",
       "\\end{tabular}\n"
      ],
      "text/markdown": [
       "\n",
       "| country_full | gini |\n",
       "|---|---|\n",
       "| Slovénie           | 23.1               |\n",
       "| Slovaquie          | 24.7               |\n",
       "| République Tchèque | 25.3               |\n",
       "| Suède              | 25.5               |\n",
       "| Ukraine            | 25.5               |\n",
       "\n"
      ],
      "text/plain": [
       "  country_full       gini\n",
       "1 Slovénie           23.1\n",
       "2 Slovaquie          24.7\n",
       "3 République Tchèque 25.3\n",
       "4 Suède              25.5\n",
       "5 Ukraine            25.5"
      ]
     },
     "metadata": {},
     "output_type": "display_data"
    },
    {
     "data": {
      "text/html": [
       "<table>\n",
       "<thead><tr><th scope=col>country_full</th><th scope=col>gini</th></tr></thead>\n",
       "<tbody>\n",
       "\t<tr><td>Afrique du Sud           </td><td>67.0                     </td></tr>\n",
       "\t<tr><td>Honduras                 </td><td>60.2                     </td></tr>\n",
       "\t<tr><td>Colombie                 </td><td>56.9                     </td></tr>\n",
       "\t<tr><td>République Centrafricaine</td><td>56.2                     </td></tr>\n",
       "\t<tr><td>Bolivie                  </td><td>56.1                     </td></tr>\n",
       "</tbody>\n",
       "</table>\n"
      ],
      "text/latex": [
       "\\begin{tabular}{r|ll}\n",
       " country\\_full & gini\\\\\n",
       "\\hline\n",
       "\t Afrique du Sud            & 67.0                     \\\\\n",
       "\t Honduras                  & 60.2                     \\\\\n",
       "\t Colombie                  & 56.9                     \\\\\n",
       "\t République Centrafricaine & 56.2                     \\\\\n",
       "\t Bolivie                   & 56.1                     \\\\\n",
       "\\end{tabular}\n"
      ],
      "text/markdown": [
       "\n",
       "| country_full | gini |\n",
       "|---|---|\n",
       "| Afrique du Sud            | 67.0                      |\n",
       "| Honduras                  | 60.2                      |\n",
       "| Colombie                  | 56.9                      |\n",
       "| République Centrafricaine | 56.2                      |\n",
       "| Bolivie                   | 56.1                      |\n",
       "\n"
      ],
      "text/plain": [
       "  country_full              gini\n",
       "1 Afrique du Sud            67.0\n",
       "2 Honduras                  60.2\n",
       "3 Colombie                  56.9\n",
       "4 République Centrafricaine 56.2\n",
       "5 Bolivie                   56.1"
      ]
     },
     "metadata": {},
     "output_type": "display_data"
    },
    {
     "data": {
      "text/html": [
       "<table>\n",
       "<thead><tr><th scope=col>country_full</th><th scope=col>rank</th></tr></thead>\n",
       "<tbody>\n",
       "\t<tr><td>France</td><td>39    </td></tr>\n",
       "</tbody>\n",
       "</table>\n"
      ],
      "text/latex": [
       "\\begin{tabular}{r|ll}\n",
       " country\\_full & rank\\\\\n",
       "\\hline\n",
       "\t France & 39    \\\\\n",
       "\\end{tabular}\n"
      ],
      "text/markdown": [
       "\n",
       "| country_full | rank |\n",
       "|---|---|\n",
       "| France | 39     |\n",
       "\n"
      ],
      "text/plain": [
       "  country_full rank\n",
       "1 France       39  "
      ]
     },
     "metadata": {},
     "output_type": "display_data"
    },
    {
     "data": {
      "text/html": [
       "11100"
      ],
      "text/latex": [
       "11100"
      ],
      "text/markdown": [
       "11100"
      ],
      "text/plain": [
       "[1] 11100"
      ]
     },
     "metadata": {},
     "output_type": "display_data"
    }
   ],
   "source": [
    "###Je crée une colonne gini dans ma table principale et je la\n",
    "###remplis en calculant les indices de chaque pays\n",
    "df$gini<-0\n",
    "\n",
    "for (i in 0:pays_analyse-1){\n",
    "  df$gini[(i*100+1):((i+1)*100)]<-\n",
    "    round(gini(df[row.names(df) == \n",
    "                    (i*100+1):((i+1)*100),\"income\"])*100,1)\n",
    "}\n",
    "\n",
    "###Je crée une table rank qui classe les pays par indice de gini\n",
    "rank<-df%>%group_by(country_full,gini)%>%count()%>%\n",
    "  arrange(gini)%>%cbind(row.names(.))%>%\n",
    "  rename(rank = \"...4\")\n",
    "\n",
    "rank$rank<-rank$rank%>%as.numeric()\n",
    "\n",
    "###Les 5 pays avec l'indice de gini le plus faible\n",
    "top5_gini<-rank[1:5,1:2]\n",
    "top5_gini\n",
    "\n",
    "###Les 5 pays avec l'indice de gini le plus élevé\n",
    "worst5_gini<-rank[(nrow(rank)-4):nrow(rank),1:2]%>%arrange(desc(gini))\n",
    "worst5_gini\n",
    "\n",
    "###le rank de l'indice de gini de la france\n",
    "fr_rank<-rank[rank$country_full == \"France\", c(\"country_full\", \"rank\")]\n",
    "fr_rank"
   ]
  },
  {
   "cell_type": "code",
   "execution_count": 10,
   "metadata": {},
   "outputs": [
    {
     "data": {
      "image/png": "[encoded data removed]",
      "text/plain": [
       "plot without title"
      ]
     },
     "metadata": {},
     "output_type": "display_data"
    }
   ],
   "source": [
    "###Je charge une table contenant les indices de gini de nombreux\n",
    "###pays sur plusieurs années\n",
    "gini<-read.csv(\"gini_index.csv\", encoding = \"UTF-8\", skip = 4)%>%\n",
    "      select(-\"X\")\n",
    "\n",
    "###Je ne garde que depuis 1970 pas assez de données pour les dates\n",
    "###précédentes\n",
    "gini<-select(gini, c(2,15:64))\n",
    "\n",
    "###Je réorganise le tableau et je le mets en forme\n",
    "gini<-melt(data = gini, id.vars = 1, \n",
    "                 measure.vars = 2:51)\n",
    "\n",
    "gini$variable<-gsub(\"^.\",\"\",gini$variable)\n",
    "\n",
    "\n",
    "colnames(gini)<-c(\"country\",\"annee\",\"gini\")\n",
    "\n",
    "gini$annee<-gini$annee%>%as.numeric()\n",
    "\n",
    "###je supprime les NAs pour que mon graphe relie tous les points\n",
    "###même ceux séparer par plusieurs années\n",
    "gini<-gini%>%na.omit()\n",
    "\n",
    "###Je trace le graph des indices de gini de mes 10 pays par rapport \n",
    "###à l'année\n",
    "ggplot(gini%>%filter(country %in%\n",
    "  c(\"FRA\",\"SWE\",\"BRA\",\"DEU\",\"USA\",\"GHA\",\"COL\",\"UGA\",\"BOL\")),\n",
    "  aes(x = annee, y = gini ))+\n",
    "  geom_line(aes(colour = country))"
   ]
  },
  {
   "cell_type": "code",
   "execution_count": 11,
   "metadata": {},
   "outputs": [
    {
     "name": "stderr",
     "output_type": "stream",
     "text": [
      "Joining, by = \"country_full\"\n"
     ]
    },
    {
     "data": {
      "text/html": [
       "<table>\n",
       "<thead><tr><th scope=col>country</th><th scope=col>country_full</th><th scope=col>year_survey</th><th scope=col>quantile</th><th scope=col>nb_quantiles</th><th scope=col>income</th><th scope=col>gdpppp</th><th scope=col>pop</th><th scope=col>gini</th><th scope=col>region</th></tr></thead>\n",
       "<tbody>\n",
       "\t<tr><td>ALB      </td><td>Albanie  </td><td>2008     </td><td>1        </td><td>100      </td><td> 728.8980</td><td>7297     </td><td>3002.678 </td><td>30.5     </td><td>europe   </td></tr>\n",
       "\t<tr><td>ALB      </td><td>Albanie  </td><td>2008     </td><td>2        </td><td>100      </td><td> 916.6623</td><td>7297     </td><td>3002.678 </td><td>30.5     </td><td>europe   </td></tr>\n",
       "\t<tr><td>ALB      </td><td>Albanie  </td><td>2008     </td><td>3        </td><td>100      </td><td>1010.9160</td><td>7297     </td><td>3002.678 </td><td>30.5     </td><td>europe   </td></tr>\n",
       "\t<tr><td>ALB      </td><td>Albanie  </td><td>2008     </td><td>4        </td><td>100      </td><td>1086.9078</td><td>7297     </td><td>3002.678 </td><td>30.5     </td><td>europe   </td></tr>\n",
       "\t<tr><td>ALB      </td><td>Albanie  </td><td>2008     </td><td>5        </td><td>100      </td><td>1132.6997</td><td>7297     </td><td>3002.678 </td><td>30.5     </td><td>europe   </td></tr>\n",
       "\t<tr><td>ALB      </td><td>Albanie  </td><td>2008     </td><td>6        </td><td>100      </td><td>1171.1412</td><td>7297     </td><td>3002.678 </td><td>30.5     </td><td>europe   </td></tr>\n",
       "</tbody>\n",
       "</table>\n"
      ],
      "text/latex": [
       "\\begin{tabular}{r|llllllllll}\n",
       " country & country\\_full & year\\_survey & quantile & nb\\_quantiles & income & gdpppp & pop & gini & region\\\\\n",
       "\\hline\n",
       "\t ALB       & Albanie   & 2008      & 1         & 100       &  728.8980 & 7297      & 3002.678  & 30.5      & europe   \\\\\n",
       "\t ALB       & Albanie   & 2008      & 2         & 100       &  916.6623 & 7297      & 3002.678  & 30.5      & europe   \\\\\n",
       "\t ALB       & Albanie   & 2008      & 3         & 100       & 1010.9160 & 7297      & 3002.678  & 30.5      & europe   \\\\\n",
       "\t ALB       & Albanie   & 2008      & 4         & 100       & 1086.9078 & 7297      & 3002.678  & 30.5      & europe   \\\\\n",
       "\t ALB       & Albanie   & 2008      & 5         & 100       & 1132.6997 & 7297      & 3002.678  & 30.5      & europe   \\\\\n",
       "\t ALB       & Albanie   & 2008      & 6         & 100       & 1171.1412 & 7297      & 3002.678  & 30.5      & europe   \\\\\n",
       "\\end{tabular}\n"
      ],
      "text/markdown": [
       "\n",
       "| country | country_full | year_survey | quantile | nb_quantiles | income | gdpppp | pop | gini | region |\n",
       "|---|---|---|---|---|---|---|---|---|---|\n",
       "| ALB       | Albanie   | 2008      | 1         | 100       |  728.8980 | 7297      | 3002.678  | 30.5      | europe    |\n",
       "| ALB       | Albanie   | 2008      | 2         | 100       |  916.6623 | 7297      | 3002.678  | 30.5      | europe    |\n",
       "| ALB       | Albanie   | 2008      | 3         | 100       | 1010.9160 | 7297      | 3002.678  | 30.5      | europe    |\n",
       "| ALB       | Albanie   | 2008      | 4         | 100       | 1086.9078 | 7297      | 3002.678  | 30.5      | europe    |\n",
       "| ALB       | Albanie   | 2008      | 5         | 100       | 1132.6997 | 7297      | 3002.678  | 30.5      | europe    |\n",
       "| ALB       | Albanie   | 2008      | 6         | 100       | 1171.1412 | 7297      | 3002.678  | 30.5      | europe    |\n",
       "\n"
      ],
      "text/plain": [
       "  country country_full year_survey quantile nb_quantiles income    gdpppp\n",
       "1 ALB     Albanie      2008        1        100           728.8980 7297  \n",
       "2 ALB     Albanie      2008        2        100           916.6623 7297  \n",
       "3 ALB     Albanie      2008        3        100          1010.9160 7297  \n",
       "4 ALB     Albanie      2008        4        100          1086.9078 7297  \n",
       "5 ALB     Albanie      2008        5        100          1132.6997 7297  \n",
       "6 ALB     Albanie      2008        6        100          1171.1412 7297  \n",
       "  pop      gini region\n",
       "1 3002.678 30.5 europe\n",
       "2 3002.678 30.5 europe\n",
       "3 3002.678 30.5 europe\n",
       "4 3002.678 30.5 europe\n",
       "5 3002.678 30.5 europe\n",
       "6 3002.678 30.5 europe"
      ]
     },
     "metadata": {},
     "output_type": "display_data"
    },
    {
     "data": {
      "text/html": [
       "11100"
      ],
      "text/latex": [
       "11100"
      ],
      "text/markdown": [
       "11100"
      ],
      "text/plain": [
       "[1] 11100"
      ]
     },
     "metadata": {},
     "output_type": "display_data"
    }
   ],
   "source": [
    "###Mission 3########################################################\n",
    "\n",
    "###Je classe mes pays par région\n",
    "amerique_latine<-read.csv(\"amerique_latine.csv\",\n",
    "              encoding = \"UTF-8\")%>%\n",
    "  select(\"country_full\" = \"Zone\")\n",
    "\n",
    "amerique_latine$region<-\"amerique_latine\"\n",
    "\n",
    "europe<-read.csv(\"europe.csv\",\n",
    "              encoding = \"UTF-8\")%>%\n",
    "  select(\"country_full\" = \"Zone\")\n",
    "\n",
    "europe$region<-\"europe\"\n",
    "\n",
    "asie<-read.csv(\"asie.csv\",\n",
    "              encoding = \"UTF-8\")%>%\n",
    "  select(\"country_full\" = \"Zone\")\n",
    "\n",
    "asie$region<-\"asie\"\n",
    "\n",
    "afrique<-read.csv(\"afrique.csv\",\n",
    "              encoding = \"UTF-8\")%>%\n",
    "  select(\"country_full\" = \"Zone\")\n",
    "\n",
    "afrique$region<-\"afrique\"\n",
    "\n",
    "fao_region<-rbind(afrique,asie,europe,amerique_latine)\n",
    "\n",
    "\n",
    "fao_region$country_full<-fao_region$country_full%>%as.vector()\n",
    "\n",
    "fao_region$country_full[fao_region$country_full == \n",
    "                      \"États-Unis d'Amérique\" ]<-\"États-Unis\"\n",
    "\n",
    "fao_region$country_full[fao_region$country_full == \n",
    "               \"Bolivie (État plurinational de)\"]<-\"Bolivie\"\n",
    "\n",
    "fao_region$country_full[fao_region$country_full == \"République centrafricaine\"]<-\n",
    "  \"République Centrafricaine\"\n",
    "\n",
    "fao_region$country_full[fao_region$country_full == \"Chine, continentale\"]<-\"Chine\"\n",
    "\n",
    "fao_region$country_full[fao_region$country_full == \"Chine, Taiwan Province de\"]<-\n",
    "  \"Taïwan\"\n",
    "\n",
    "fao_region$country_full[fao_region$country_full == \"République démocratique du Congo\"]<-\n",
    "  \"République Démocratique du Congo\"\n",
    "\n",
    "fao_region$country_full[fao_region$country_full == \"Tchéquie\"]<-\"République Tchèque\"\n",
    "\n",
    "fao_region$country_full[fao_region$country_full == \"République dominicaine\"]<-\n",
    "  \"République Dominicaine\"\n",
    "\n",
    "fao_region$country_full[fao_region$country_full == \"Iran (République islamique d')\"]<-\n",
    "  \"République Islamique d'Iran\"\n",
    "\n",
    "fao_region$country_full[fao_region$country_full == \"République démocratique populaire lao\"]<-\n",
    "  \"République Démocratique Populaire Lao\"\n",
    "\n",
    "fao_region$country_full[fao_region$country_full == \"Soudan (ex)\"]<-\"Soudan\"\n",
    "\n",
    "fao_region$country_full[fao_region$country_full == \"Eswatini\"]<-\"Swaziland\"\n",
    "\n",
    "fao_region$country_full[fao_region$country_full == \"République arabe syrienne\"]<-\n",
    "  \"République Arabe Syrienne\"\n",
    "\n",
    "fao_region$country_full[fao_region$country_full == \n",
    "  \"Royaume-Uni de Grande-Bretagne et d'Irlande du Nord\"]<-\n",
    "  \"Royaume-Uni\"\n",
    "\n",
    "fao_region$country_full[fao_region$country_full == \n",
    "               \"Venezuela (République bolivarienne du)\"]<-\"Venezuela\"\n",
    "\n",
    "\n",
    "dfs<-inner_join(df,fao_region)\n",
    "\n",
    "df<-dfs\n",
    "\n",
    "df$region[df$country %in% c(\"FIN\",\"SWE\",\"NOR\",\"ISL\",\"DNK\")]<-\n",
    "  \"europe_nord\"\n",
    "\n",
    "df$region[df$country %in% c(\"USA\",\"CAN\")]<-\"amerique_nord\"\n",
    "       \n",
    "head(df)"
   ]
  },
  {
   "cell_type": "code",
   "execution_count": 12,
   "metadata": {},
   "outputs": [
    {
     "data": {
      "text/html": [
       "<table>\n",
       "<thead><tr><th scope=col>country</th><th scope=col>country_full</th><th scope=col>year_survey</th><th scope=col>quantile</th><th scope=col>nb_quantiles</th><th scope=col>income</th><th scope=col>gdpppp</th><th scope=col>pop</th><th scope=col>gini</th><th scope=col>region</th><th scope=col>elasticite</th></tr></thead>\n",
       "<tbody>\n",
       "\t<tr><td>ALB      </td><td>Albanie  </td><td>2008     </td><td>1        </td><td>100      </td><td> 728.8980</td><td>7297     </td><td>3002.678 </td><td>30.5     </td><td>europe   </td><td>0.4      </td></tr>\n",
       "\t<tr><td>ALB      </td><td>Albanie  </td><td>2008     </td><td>2        </td><td>100      </td><td> 916.6623</td><td>7297     </td><td>3002.678 </td><td>30.5     </td><td>europe   </td><td>0.4      </td></tr>\n",
       "\t<tr><td>ALB      </td><td>Albanie  </td><td>2008     </td><td>3        </td><td>100      </td><td>1010.9160</td><td>7297     </td><td>3002.678 </td><td>30.5     </td><td>europe   </td><td>0.4      </td></tr>\n",
       "\t<tr><td>ALB      </td><td>Albanie  </td><td>2008     </td><td>4        </td><td>100      </td><td>1086.9078</td><td>7297     </td><td>3002.678 </td><td>30.5     </td><td>europe   </td><td>0.4      </td></tr>\n",
       "\t<tr><td>ALB      </td><td>Albanie  </td><td>2008     </td><td>5        </td><td>100      </td><td>1132.6997</td><td>7297     </td><td>3002.678 </td><td>30.5     </td><td>europe   </td><td>0.4      </td></tr>\n",
       "\t<tr><td>ALB      </td><td>Albanie  </td><td>2008     </td><td>6        </td><td>100      </td><td>1171.1412</td><td>7297     </td><td>3002.678 </td><td>30.5     </td><td>europe   </td><td>0.4      </td></tr>\n",
       "</tbody>\n",
       "</table>\n"
      ],
      "text/latex": [
       "\\begin{tabular}{r|lllllllllll}\n",
       " country & country\\_full & year\\_survey & quantile & nb\\_quantiles & income & gdpppp & pop & gini & region & elasticite\\\\\n",
       "\\hline\n",
       "\t ALB       & Albanie   & 2008      & 1         & 100       &  728.8980 & 7297      & 3002.678  & 30.5      & europe    & 0.4      \\\\\n",
       "\t ALB       & Albanie   & 2008      & 2         & 100       &  916.6623 & 7297      & 3002.678  & 30.5      & europe    & 0.4      \\\\\n",
       "\t ALB       & Albanie   & 2008      & 3         & 100       & 1010.9160 & 7297      & 3002.678  & 30.5      & europe    & 0.4      \\\\\n",
       "\t ALB       & Albanie   & 2008      & 4         & 100       & 1086.9078 & 7297      & 3002.678  & 30.5      & europe    & 0.4      \\\\\n",
       "\t ALB       & Albanie   & 2008      & 5         & 100       & 1132.6997 & 7297      & 3002.678  & 30.5      & europe    & 0.4      \\\\\n",
       "\t ALB       & Albanie   & 2008      & 6         & 100       & 1171.1412 & 7297      & 3002.678  & 30.5      & europe    & 0.4      \\\\\n",
       "\\end{tabular}\n"
      ],
      "text/markdown": [
       "\n",
       "| country | country_full | year_survey | quantile | nb_quantiles | income | gdpppp | pop | gini | region | elasticite |\n",
       "|---|---|---|---|---|---|---|---|---|---|---|\n",
       "| ALB       | Albanie   | 2008      | 1         | 100       |  728.8980 | 7297      | 3002.678  | 30.5      | europe    | 0.4       |\n",
       "| ALB       | Albanie   | 2008      | 2         | 100       |  916.6623 | 7297      | 3002.678  | 30.5      | europe    | 0.4       |\n",
       "| ALB       | Albanie   | 2008      | 3         | 100       | 1010.9160 | 7297      | 3002.678  | 30.5      | europe    | 0.4       |\n",
       "| ALB       | Albanie   | 2008      | 4         | 100       | 1086.9078 | 7297      | 3002.678  | 30.5      | europe    | 0.4       |\n",
       "| ALB       | Albanie   | 2008      | 5         | 100       | 1132.6997 | 7297      | 3002.678  | 30.5      | europe    | 0.4       |\n",
       "| ALB       | Albanie   | 2008      | 6         | 100       | 1171.1412 | 7297      | 3002.678  | 30.5      | europe    | 0.4       |\n",
       "\n"
      ],
      "text/plain": [
       "  country country_full year_survey quantile nb_quantiles income    gdpppp\n",
       "1 ALB     Albanie      2008        1        100           728.8980 7297  \n",
       "2 ALB     Albanie      2008        2        100           916.6623 7297  \n",
       "3 ALB     Albanie      2008        3        100          1010.9160 7297  \n",
       "4 ALB     Albanie      2008        4        100          1086.9078 7297  \n",
       "5 ALB     Albanie      2008        5        100          1132.6997 7297  \n",
       "6 ALB     Albanie      2008        6        100          1171.1412 7297  \n",
       "  pop      gini region elasticite\n",
       "1 3002.678 30.5 europe 0.4       \n",
       "2 3002.678 30.5 europe 0.4       \n",
       "3 3002.678 30.5 europe 0.4       \n",
       "4 3002.678 30.5 europe 0.4       \n",
       "5 3002.678 30.5 europe 0.4       \n",
       "6 3002.678 30.5 europe 0.4       "
      ]
     },
     "metadata": {},
     "output_type": "display_data"
    },
    {
     "data": {
      "text/html": [
       "11100"
      ],
      "text/latex": [
       "11100"
      ],
      "text/markdown": [
       "11100"
      ],
      "text/plain": [
       "[1] 11100"
      ]
     },
     "metadata": {},
     "output_type": "display_data"
    }
   ],
   "source": [
    "###J'attribut à chaque pays uun coef d'élasticité celon sa région\n",
    "df$elasticite[df$region %in% c(\"afrique\",\"amerique_latine\")] <- 0.66\n",
    "df$elasticite[df$region == \"europe\" | df$country == \"USA\"] <- 0.4\n",
    "df$elasticite[df$region %in% c(\"asie\")] <- 0.5\n",
    "df$elasticite[df$region %in% c(\"europe_nord\")| df$country == \"CAN\"] <- 0.2\n",
    "\n",
    "head(df)"
   ]
  },
  {
   "cell_type": "code",
   "execution_count": 13,
   "metadata": {},
   "outputs": [
    {
     "name": "stderr",
     "output_type": "stream",
     "text": [
      "Joining, by = c(\"c_i_child\", \"c_i_parent\")\n"
     ]
    },
    {
     "data": {
      "text/html": [
       "<table>\n",
       "<thead><tr><th scope=col>c_i_child</th><th scope=col>c_i_parent</th><th scope=col>n</th><th scope=col>proba_cond</th></tr></thead>\n",
       "<tbody>\n",
       "\t<tr><td>1    </td><td>1    </td><td>253  </td><td>0.253</td></tr>\n",
       "\t<tr><td>1    </td><td>2    </td><td>139  </td><td>0.139</td></tr>\n",
       "\t<tr><td>1    </td><td>3    </td><td> 92  </td><td>0.092</td></tr>\n",
       "\t<tr><td>1    </td><td>4    </td><td> 63  </td><td>0.063</td></tr>\n",
       "\t<tr><td>1    </td><td>5    </td><td> 54  </td><td>0.054</td></tr>\n",
       "\t<tr><td>1    </td><td>6    </td><td> 46  </td><td>0.046</td></tr>\n",
       "</tbody>\n",
       "</table>\n"
      ],
      "text/latex": [
       "\\begin{tabular}{r|llll}\n",
       " c\\_i\\_child & c\\_i\\_parent & n & proba\\_cond\\\\\n",
       "\\hline\n",
       "\t 1     & 1     & 253   & 0.253\\\\\n",
       "\t 1     & 2     & 139   & 0.139\\\\\n",
       "\t 1     & 3     &  92   & 0.092\\\\\n",
       "\t 1     & 4     &  63   & 0.063\\\\\n",
       "\t 1     & 5     &  54   & 0.054\\\\\n",
       "\t 1     & 6     &  46   & 0.046\\\\\n",
       "\\end{tabular}\n"
      ],
      "text/markdown": [
       "\n",
       "| c_i_child | c_i_parent | n | proba_cond |\n",
       "|---|---|---|---|\n",
       "| 1     | 1     | 253   | 0.253 |\n",
       "| 1     | 2     | 139   | 0.139 |\n",
       "| 1     | 3     |  92   | 0.092 |\n",
       "| 1     | 4     |  63   | 0.063 |\n",
       "| 1     | 5     |  54   | 0.054 |\n",
       "| 1     | 6     |  46   | 0.046 |\n",
       "\n"
      ],
      "text/plain": [
       "  c_i_child c_i_parent n   proba_cond\n",
       "1 1         1          253 0.253     \n",
       "2 1         2          139 0.139     \n",
       "3 1         3           92 0.092     \n",
       "4 1         4           63 0.063     \n",
       "5 1         5           54 0.054     \n",
       "6 1         6           46 0.046     "
      ]
     },
     "metadata": {},
     "output_type": "display_data"
    }
   ],
   "source": [
    "###Je crée une fonction qui me permet de créer les tables de proba\n",
    "###conditionnelles celon le coef, le nbre de quantile et le nombre\n",
    "###d'individu par quantile\n",
    "f_proba<-function(rho_j, nb_quantile, ind_quantile){\n",
    "\n",
    "set.seed(100)\n",
    "  \n",
    "n<-nb_quantile*ind_quantile\n",
    "ln_y_parent<-rnorm(n,0,1)\n",
    "epsilon<-rnorm(n,0,1)\n",
    "alpha<-0\n",
    "\n",
    "\n",
    "y_child<-exp(alpha + rho_j*ln_y_parent + epsilon)\n",
    "y_parent<-exp(ln_y_parent)\n",
    "\n",
    "\n",
    "table<-data.frame(y_child,y_parent)\n",
    "table$num<-row.names(table)\n",
    "\n",
    "x<-arrange(table, y_child)\n",
    "x$quantile<-trunc((row.names(x)%>%as.numeric()-1)/(n/nb_quantile))+1\n",
    "\n",
    "y<-arrange(table, y_parent)\n",
    "y$quantile<-trunc((row.names(x)%>%as.numeric()-1)/(n/nb_quantile))+1\n",
    "\n",
    "table<-inner_join(x,y, by = c(\"num\",\"y_child\",\"y_parent\"))%>%\n",
    "  select(\"c_i_child\" = \"quantile.x\", \"c_i_parent\" = \"quantile.y\")\n",
    "  \n",
    "table<-table%>%group_by(c_i_child,c_i_parent)%>%count()\n",
    "\n",
    "x<-data.frame(c_i_child = factor(1:nb_quantile),\n",
    "              c_i_parent = factor(1:nb_quantile))\n",
    "\n",
    "y<-expand(x, c_i_child, c_i_parent)\n",
    "\n",
    "table$c_i_child<- table$c_i_child%>%as.factor()\n",
    "table$c_i_parent<- table$c_i_parent%>%as.factor()\n",
    "\n",
    "table<-full_join(table,y)\n",
    "\n",
    "table$n[is.na(table$n)]<-0 \n",
    "table$proba_cond<-table$n/(n/nb_quantile)\n",
    "\n",
    "table\n",
    "}\n",
    "\n",
    "a<-f_proba(0.9, 100, 1000)\n",
    "head(a)"
   ]
  },
  {
   "cell_type": "code",
   "execution_count": 14,
   "metadata": {},
   "outputs": [
    {
     "name": "stderr",
     "output_type": "stream",
     "text": [
      "Joining, by = c(\"c_i_child\", \"c_i_parent\")\n",
      "Joining, by = c(\"c_i_child\", \"c_i_parent\")\n"
     ]
    },
    {
     "data": {
      "image/png": "[encoded data removed]",
      "text/plain": [
       "plot without title"
      ]
     },
     "metadata": {},
     "output_type": "display_data"
    }
   ],
   "source": [
    "###Je crée deux tables et je dessine les histogrammes associés\n",
    "table_proba_cond0.1<-f_proba(0.1, 10, 1000)\n",
    "table_proba_cond0.9<-f_proba(0.9, 10, 1000)\n",
    "\n",
    "\n",
    "ggplot(table_proba_cond0.1,\n",
    "       aes(c_i_parent, proba_cond, fill = desc(c_i_child)%>%as.factor()))+\n",
    "  geom_bar(stat = \"identity\") + labs( fill = \"c_i_child\")"
   ]
  },
  {
   "cell_type": "code",
   "execution_count": 15,
   "metadata": {},
   "outputs": [
    {
     "data": {
      "image/png": "[encoded data removed]",
      "text/plain": [
       "plot without title"
      ]
     },
     "metadata": {},
     "output_type": "display_data"
    }
   ],
   "source": [
    "ggplot(table_proba_cond0.9,\n",
    "       aes(c_i_parent, proba_cond, fill = desc(c_i_child)%>%as.factor()))+\n",
    "  geom_bar(stat = \"identity\") + labs( fill = \"c_i_child\")"
   ]
  },
  {
   "cell_type": "code",
   "execution_count": 16,
   "metadata": {},
   "outputs": [],
   "source": [
    "###Mission 4#########################################################\n",
    "\n",
    "###Je crée une fonction qui me permet d'ajouter la colonne c_i_parent\n",
    "###dans ma table principale.\n",
    "###La fonction crée la classe de revenu de 50000 parents 500 pour chaque\n",
    "###quantile celon un coef d'élasticité donné \n",
    "f<-function(rho_j){\n",
    "\n",
    "    \n",
    "nb_quantile<-100\n",
    "n<-nb_quantile*500\n",
    "ln_y_parent<-rnorm(n,0,1)\n",
    "epsilon<-rnorm(n,0,1)\n",
    "alpha<-0\n",
    "\n",
    "\n",
    "y_child<-exp(alpha + rho_j*ln_y_parent + epsilon)\n",
    "y_parent<-exp(ln_y_parent)\n",
    "\n",
    "\n",
    "table<-data.frame(y_child,y_parent)\n",
    "table$num<-row.names(table)\n",
    "\n",
    "x<-arrange(table, y_child)\n",
    "x$quantile<-trunc((row.names(x)%>%as.numeric()-1)/(n/nb_quantile))+1\n",
    "\n",
    "y<-arrange(table, y_parent)\n",
    "y$quantile<-trunc((row.names(x)%>%as.numeric()-1)/(n/nb_quantile))+1\n",
    "\n",
    "table<-inner_join(x,y, by = c(\"num\",\"y_child\",\"y_parent\"))%>%\n",
    "  select(\"c_i_child\" = \"quantile.x\", \"c_i_parent\" = \"quantile.y\")\n",
    "\n",
    "table$c_i_parent\n",
    "}\n",
    "\n",
    "###Je crée une fonction pour pouvoir répéter la fonction précédente\n",
    "###de façon aléatoire un nombre de fois donné pour un coef donné\n",
    "rep_f<-function(x, n){\n",
    "b<-c()\n",
    "for (i in 1:n) {\n",
    "\n",
    "  b<-c(b,f(x))\n",
    "}\n",
    "b    \n",
    "}"
   ]
  },
  {
   "cell_type": "code",
   "execution_count": 17,
   "metadata": {},
   "outputs": [
    {
     "data": {
      "text/html": [
       "<table>\n",
       "<thead><tr><th></th><th scope=col>country</th><th scope=col>country_full</th><th scope=col>year_survey</th><th scope=col>c_i_child</th><th scope=col>nb_quantiles</th><th scope=col>income</th><th scope=col>gdpppp</th><th scope=col>pop</th><th scope=col>gini</th><th scope=col>region</th><th scope=col>elasticite</th><th scope=col>c_i_parent</th></tr></thead>\n",
       "<tbody>\n",
       "\t<tr><th scope=row>1501</th><td>CAN          </td><td>Canada       </td><td>2008         </td><td>1            </td><td>100          </td><td>122.4248     </td><td>35895        </td><td>33337.64     </td><td>35           </td><td>amerique_nord</td><td>0.2          </td><td>58           </td></tr>\n",
       "\t<tr><th scope=row>1501.1</th><td>CAN          </td><td>Canada       </td><td>2008         </td><td>1            </td><td>100          </td><td>122.4248     </td><td>35895        </td><td>33337.64     </td><td>35           </td><td>amerique_nord</td><td>0.2          </td><td> 5           </td></tr>\n",
       "\t<tr><th scope=row>1501.2</th><td>CAN          </td><td>Canada       </td><td>2008         </td><td>1            </td><td>100          </td><td>122.4248     </td><td>35895        </td><td>33337.64     </td><td>35           </td><td>amerique_nord</td><td>0.2          </td><td>51           </td></tr>\n",
       "\t<tr><th scope=row>1501.3</th><td>CAN          </td><td>Canada       </td><td>2008         </td><td>1            </td><td>100          </td><td>122.4248     </td><td>35895        </td><td>33337.64     </td><td>35           </td><td>amerique_nord</td><td>0.2          </td><td> 1           </td></tr>\n",
       "\t<tr><th scope=row>1501.4</th><td>CAN          </td><td>Canada       </td><td>2008         </td><td>1            </td><td>100          </td><td>122.4248     </td><td>35895        </td><td>33337.64     </td><td>35           </td><td>amerique_nord</td><td>0.2          </td><td>94           </td></tr>\n",
       "\t<tr><th scope=row>1501.5</th><td>CAN          </td><td>Canada       </td><td>2008         </td><td>1            </td><td>100          </td><td>122.4248     </td><td>35895        </td><td>33337.64     </td><td>35           </td><td>amerique_nord</td><td>0.2          </td><td>46           </td></tr>\n",
       "</tbody>\n",
       "</table>\n"
      ],
      "text/latex": [
       "\\begin{tabular}{r|llllllllllll}\n",
       "  & country & country\\_full & year\\_survey & c\\_i\\_child & nb\\_quantiles & income & gdpppp & pop & gini & region & elasticite & c\\_i\\_parent\\\\\n",
       "\\hline\n",
       "\t1501 & CAN             & Canada          & 2008            & 1               & 100             & 122.4248        & 35895           & 33337.64        & 35              & amerique\\_nord & 0.2             & 58             \\\\\n",
       "\t1501.1 & CAN             & Canada          & 2008            & 1               & 100             & 122.4248        & 35895           & 33337.64        & 35              & amerique\\_nord & 0.2             &  5             \\\\\n",
       "\t1501.2 & CAN             & Canada          & 2008            & 1               & 100             & 122.4248        & 35895           & 33337.64        & 35              & amerique\\_nord & 0.2             & 51             \\\\\n",
       "\t1501.3 & CAN             & Canada          & 2008            & 1               & 100             & 122.4248        & 35895           & 33337.64        & 35              & amerique\\_nord & 0.2             &  1             \\\\\n",
       "\t1501.4 & CAN             & Canada          & 2008            & 1               & 100             & 122.4248        & 35895           & 33337.64        & 35              & amerique\\_nord & 0.2             & 94             \\\\\n",
       "\t1501.5 & CAN             & Canada          & 2008            & 1               & 100             & 122.4248        & 35895           & 33337.64        & 35              & amerique\\_nord & 0.2             & 46             \\\\\n",
       "\\end{tabular}\n"
      ],
      "text/markdown": [
       "\n",
       "| <!--/--> | country | country_full | year_survey | c_i_child | nb_quantiles | income | gdpppp | pop | gini | region | elasticite | c_i_parent |\n",
       "|---|---|---|---|---|---|---|---|---|---|---|---|---|\n",
       "| 1501 | CAN           | Canada        | 2008          | 1             | 100           | 122.4248      | 35895         | 33337.64      | 35            | amerique_nord | 0.2           | 58            |\n",
       "| 1501.1 | CAN           | Canada        | 2008          | 1             | 100           | 122.4248      | 35895         | 33337.64      | 35            | amerique_nord | 0.2           |  5            |\n",
       "| 1501.2 | CAN           | Canada        | 2008          | 1             | 100           | 122.4248      | 35895         | 33337.64      | 35            | amerique_nord | 0.2           | 51            |\n",
       "| 1501.3 | CAN           | Canada        | 2008          | 1             | 100           | 122.4248      | 35895         | 33337.64      | 35            | amerique_nord | 0.2           |  1            |\n",
       "| 1501.4 | CAN           | Canada        | 2008          | 1             | 100           | 122.4248      | 35895         | 33337.64      | 35            | amerique_nord | 0.2           | 94            |\n",
       "| 1501.5 | CAN           | Canada        | 2008          | 1             | 100           | 122.4248      | 35895         | 33337.64      | 35            | amerique_nord | 0.2           | 46            |\n",
       "\n"
      ],
      "text/plain": [
       "       country country_full year_survey c_i_child nb_quantiles income   gdpppp\n",
       "1501   CAN     Canada       2008        1         100          122.4248 35895 \n",
       "1501.1 CAN     Canada       2008        1         100          122.4248 35895 \n",
       "1501.2 CAN     Canada       2008        1         100          122.4248 35895 \n",
       "1501.3 CAN     Canada       2008        1         100          122.4248 35895 \n",
       "1501.4 CAN     Canada       2008        1         100          122.4248 35895 \n",
       "1501.5 CAN     Canada       2008        1         100          122.4248 35895 \n",
       "       pop      gini region        elasticite c_i_parent\n",
       "1501   33337.64 35   amerique_nord 0.2        58        \n",
       "1501.1 33337.64 35   amerique_nord 0.2         5        \n",
       "1501.2 33337.64 35   amerique_nord 0.2        51        \n",
       "1501.3 33337.64 35   amerique_nord 0.2         1        \n",
       "1501.4 33337.64 35   amerique_nord 0.2        94        \n",
       "1501.5 33337.64 35   amerique_nord 0.2        46        "
      ]
     },
     "metadata": {},
     "output_type": "display_data"
    }
   ],
   "source": [
    "###Je clone 500 fois chaque individu\n",
    "df500<-df[rep(1:nrow(df), each = 500),]%>%rename(\"c_i_child\" =\"quantile\")\n",
    "\n",
    "###Je compte combien de pays sont associés à chaque coef d'élasticité\n",
    "n0.2<-df%>%filter(elasticite == 0.2)%>%nrow()/100\n",
    "n0.4<-df%>%filter(elasticite == 0.4)%>%nrow()/100\n",
    "n0.5<-df%>%filter(elasticite == 0.5)%>%nrow()/100\n",
    "n0.66<-df%>%filter(elasticite == 0.66)%>%nrow()/100\n",
    "\n",
    "###Je crée ma colonne c_i_parent pour mes 5550000 enfants en répétant\n",
    "###la fonction f autant de fois qu'il y a de pays par coef\n",
    "a1<-rep_f(0.2,n0.2)\n",
    "a2<-rep_f(0.4,n0.4)\n",
    "a3<-rep_f(0.5,n0.5)\n",
    "a4<-rep_f(0.66,n0.66)\n",
    "\n",
    "###Je crée la colonne en ordonnant du plus petit coef au plus grand\n",
    "c_i_parent<-c(a1,a2,a3,a4)\n",
    "\n",
    "###Je colle ma colonne en ordonnant ma table principale de la même façon\n",
    "###pour que ça corresponde\n",
    "df500<-cbind(df500%>%arrange(elasticite),c_i_parent)\n",
    "\n",
    "head(df500)"
   ]
  },
  {
   "cell_type": "code",
   "execution_count": 18,
   "metadata": {},
   "outputs": [],
   "source": [
    "###Je crée une fonction qui fait les tests et graphs de regression linéaire\n",
    "f_graph<- function(fit, p){\n",
    "\n",
    "df_function<-fit$model  \n",
    "alpha <- 0.05\n",
    "n <- dim(df_function)[1]\n",
    "analyses <- data.frame(obs= 1:n)\n",
    "analyses$levier <- hat(model.matrix(fit))\n",
    "seuil_levier <- 2*p/n\n",
    "\n",
    "analyses$rstudent <- rstudent(fit)\n",
    "seuil_rstudent <- qt(1-alpha/2,n-p-1)\n",
    "\n",
    "influence <- influence.measures(fit)\n",
    "names(influence)\n",
    "colnames(influence$infmat)\n",
    "\n",
    "analyses$dcook <- influence$infmat[,\"cook.d\"]\n",
    "seuil_dcook <- 4/(n-p)\n",
    "\n",
    "layout(matrix(1:4, 2, 2))\n",
    "\n",
    "\n",
    "return(\n",
    "  list(\n",
    "   plot(fit),\n",
    "    \n",
    "    ggplot(data.frame(fit$residuals),aes(fit.residuals)) + \n",
    " geom_histogram(aes(y=..count..), colour=\"blue\", fill= \"white\")+\n",
    "  geom_vline(aes(xintercept=mean(fit.residuals), color=\"red\"))+\n",
    "  xlab(\"Residuals values\")+ ylab(\"Number of residuals\"),\n",
    "    \n",
    "ggplot(data=analyses,aes(x=obs, y=levier))+\n",
    "   geom_bar(stat=\"identity\",colour=\"steelblue\")+\n",
    "   geom_hline(yintercept=seuil_levier,col=\"red\")+\n",
    "   theme_minimal()+\n",
    "   xlab(\"Observation\")+\n",
    "   ylab(\"Leviers\")+\n",
    "   scale_x_continuous(breaks=seq(0,n,by=5)),\n",
    "\n",
    "ggplot(data=analyses,aes(x=obs,y=rstudent))+\n",
    "  geom_bar(stat=\"identity\",colour=\"steelblue\")+\n",
    "  geom_hline(yintercept=-seuil_rstudent,col=\"red\")+\n",
    "  geom_hline(yintercept=seuil_rstudent,col=\"red\")+\n",
    "  theme_minimal()+\n",
    "  xlab(\"observation\")+\n",
    "  ylab(\"Résidus studentisés\")+\n",
    "  scale_x_continuous(breaks=seq(0,n,by=5)),\n",
    "\n",
    "summary(fit),\n",
    "\n",
    "vif(fit),\n",
    "\n",
    "shapiro.test(sample(fit$residuals,5000)),\n",
    "\n",
    "ad.test(fit$residuals),\n",
    "\n",
    "ks.test(fit$residuals, \"pnorm\")\n",
    ")\n",
    ")\n",
    "}"
   ]
  },
  {
   "cell_type": "code",
   "execution_count": 20,
   "metadata": {},
   "outputs": [
    {
     "name": "stderr",
     "output_type": "stream",
     "text": [
      "hat values (leverages) are all = 0.01\n",
      " and there are no factor predictors; no plot no. 5\n"
     ]
    },
    {
     "data": {
      "text/plain": [
       " lag Autocorrelation D-W Statistic p-value\n",
       "   1       0.6717958     0.6555143       0\n",
       " Alternative hypothesis: rho != 0"
      ]
     },
     "metadata": {},
     "output_type": "display_data"
    },
    {
     "data": {
      "text/plain": [
       "\n",
       "\tShapiro-Wilk normality test\n",
       "\n",
       "data:  sample(fit_aov$residuals, 5000)\n",
       "W = 0.55339, p-value < 2.2e-16\n"
      ]
     },
     "metadata": {},
     "output_type": "display_data"
    },
    {
     "data": {
      "text/plain": [
       "\n",
       "\tAnderson-Darling normality test\n",
       "\n",
       "data:  fit_aov$residuals\n",
       "A = 1140.4, p-value < 2.2e-16\n"
      ]
     },
     "metadata": {},
     "output_type": "display_data"
    },
    {
     "data": {
      "text/plain": [
       "\n",
       "\tOne-sample Kolmogorov-Smirnov test\n",
       "\n",
       "data:  fit_aov$residuals\n",
       "D = 0.65499, p-value < 2.2e-16\n",
       "alternative hypothesis: two-sided\n"
      ]
     },
     "metadata": {},
     "output_type": "display_data"
    },
    {
     "data": {
      "text/plain": [
       "\n",
       "\tFligner-Killeen test of homogeneity of variances\n",
       "\n",
       "data:  residuals(fit_aov) by df$country\n",
       "Fligner-Killeen:med chi-squared = 5271.7, df = 110, p-value < 2.2e-16\n"
      ]
     },
     "metadata": {},
     "output_type": "display_data"
    },
    {
     "data": {
      "text/plain": [
       "\n",
       "\tBartlett test of homogeneity of variances\n",
       "\n",
       "data:  residuals(fit_aov) by df$country\n",
       "Bartlett's K-squared = 18474, df = 110, p-value < 2.2e-16\n"
      ]
     },
     "metadata": {},
     "output_type": "display_data"
    },
    {
     "data": {
      "text/plain": [
       "\n",
       "Call:\n",
       "lm(formula = income ~ country, data = df)\n",
       "\n",
       "Residuals:\n",
       "   Min     1Q Median     3Q    Max \n",
       "-24840  -1907   -393    493 151425 \n",
       "\n",
       "Coefficients:\n",
       "            Estimate Std. Error t value Pr(>|t|)    \n",
       "(Intercept)  2994.83     685.65   4.368 1.27e-05 ***\n",
       "countryARG   2853.05     969.66   2.942 0.003264 ** \n",
       "countryARM  -1366.45     969.66  -1.409 0.158804    \n",
       "countryAUT  13642.77     969.66  14.070  < 2e-16 ***\n",
       "countryAZE   -637.40     969.66  -0.657 0.510973    \n",
       "countryBEL  12029.78     969.66  12.406  < 2e-16 ***\n",
       "countryBFA  -2048.49     969.66  -2.113 0.034659 *  \n",
       "countryBGD  -1996.14     969.66  -2.059 0.039557 *  \n",
       "countryBGR   1990.15     969.66   2.052 0.040153 *  \n",
       "countryBIH   3339.86     969.66   3.444 0.000575 ***\n",
       "countryBLR    926.33     969.66   0.955 0.339438    \n",
       "countryBOL     21.43     969.66   0.022 0.982365    \n",
       "countryBRA   1812.65     969.66   1.869 0.061598 .  \n",
       "countryBTN  -1478.90     969.66  -1.525 0.127244    \n",
       "countryCAF  -2183.53     969.66  -2.252 0.024351 *  \n",
       "countryCAN  20744.81     969.66  21.394  < 2e-16 ***\n",
       "countryCHL   4274.87     969.66   4.409 1.05e-05 ***\n",
       "countryCHN   -472.07     969.66  -0.487 0.626380    \n",
       "countryCIV  -2594.99     969.66  -2.676 0.007457 ** \n",
       "countryCMR  -1200.34     969.66  -1.238 0.215782    \n",
       "countryCOD  -2718.81     969.66  -2.804 0.005058 ** \n",
       "countryCOL    552.18     969.66   0.569 0.569061    \n",
       "countryCRI   2585.56     969.66   2.666 0.007677 ** \n",
       "countryCYP  14350.56     969.66  14.800  < 2e-16 ***\n",
       "countryCZE   5240.46     969.66   5.404 6.64e-08 ***\n",
       "countryDEU  15066.89     969.66  15.538  < 2e-16 ***\n",
       "countryDNK  14048.32     969.66  14.488  < 2e-16 ***\n",
       "countryDOM    563.57     969.66   0.581 0.561114    \n",
       "countryECU    388.91     969.66   0.401 0.688369    \n",
       "countryEGY   -964.34     969.66  -0.995 0.319996    \n",
       "countryESP  10122.16     969.66  10.439  < 2e-16 ***\n",
       "countryEST   4707.23     969.66   4.855 1.22e-06 ***\n",
       "countryFIN  13311.50     969.66  13.728  < 2e-16 ***\n",
       "countryFRA  15314.58     969.66  15.794  < 2e-16 ***\n",
       "countryGBR  18714.77     969.66  19.300  < 2e-16 ***\n",
       "countryGEO  -1631.07     969.66  -1.682 0.092577 .  \n",
       "countryGHA  -2231.71     969.66  -2.302 0.021380 *  \n",
       "countryGIN  -2298.82     969.66  -2.371 0.017769 *  \n",
       "countryGRC   8732.44     969.66   9.006  < 2e-16 ***\n",
       "countryHND    301.44     969.66   0.311 0.755905    \n",
       "countryHRV   4721.64     969.66   4.869 1.14e-06 ***\n",
       "countryHUN   3106.51     969.66   3.204 0.001361 ** \n",
       "countryIDN  -1618.93     969.66  -1.670 0.095029 .  \n",
       "countryIND  -2070.56     969.66  -2.135 0.032755 *  \n",
       "countryIRL  14715.91     969.66  15.176  < 2e-16 ***\n",
       "countryIRN   2837.83     969.66   2.927 0.003434 ** \n",
       "countryIRQ  -1289.32     969.66  -1.330 0.183658    \n",
       "countryISL  23893.68     969.66  24.641  < 2e-16 ***\n",
       "countryISR   8105.49     969.66   8.359  < 2e-16 ***\n",
       "countryITA  11930.39     969.66  12.304  < 2e-16 ***\n",
       "countryJOR     53.80     969.66   0.055 0.955754    \n",
       "countryJPN  14438.13     969.66  14.890  < 2e-16 ***\n",
       "countryKAZ   -755.68     969.66  -0.779 0.435805    \n",
       "countryKEN  -2475.51     969.66  -2.553 0.010694 *  \n",
       "countryKGZ  -1221.61     969.66  -1.260 0.207756    \n",
       "countryKHM  -1508.49     969.66  -1.556 0.119811    \n",
       "countryKOR  12232.74     969.66  12.615  < 2e-16 ***\n",
       "countryLAO  -1991.42     969.66  -2.054 0.040025 *  \n",
       "countryLBR  -2379.82     969.66  -2.454 0.014132 *  \n",
       "countryLKA  -1116.89     969.66  -1.152 0.249413    \n",
       "countryLTU   3628.83     969.66   3.742 0.000183 ***\n",
       "countryLUX  22222.73     969.66  22.918  < 2e-16 ***\n",
       "countryLVA   3769.64     969.66   3.888 0.000102 ***\n",
       "countryMAR   -657.23     969.66  -0.678 0.497917    \n",
       "countryMDA   -845.66     969.66  -0.872 0.383163    \n",
       "countryMDG  -2649.59     969.66  -2.732 0.006296 ** \n",
       "countryMEX    891.00     969.66   0.919 0.358179    \n",
       "countryMKD   1604.57     969.66   1.655 0.097999 .  \n",
       "countryMLI  -2313.75     969.66  -2.386 0.017043 *  \n",
       "countryMNE   3553.07     969.66   3.664 0.000249 ***\n",
       "countryMNG   -656.74     969.66  -0.677 0.498235    \n",
       "countryMOZ  -2302.35     969.66  -2.374 0.017595 *  \n",
       "countryMRT  -1196.22     969.66  -1.234 0.217360    \n",
       "countryMWI  -2080.56     969.66  -2.146 0.031922 *  \n",
       "countryMYS   3197.28     969.66   3.297 0.000979 ***\n",
       "countryNER  -2344.70     969.66  -2.418 0.015619 *  \n",
       "countryNGA  -2302.97     969.66  -2.375 0.017564 *  \n",
       "countryNIC   -397.58     969.66  -0.410 0.681800    \n",
       "countryNLD  14733.81     969.66  15.195  < 2e-16 ***\n",
       "countryNOR  19488.55     969.66  20.098  < 2e-16 ***\n",
       "countryNPL  -2080.44     969.66  -2.146 0.031932 *  \n",
       "countryPAK  -2106.99     969.66  -2.173 0.029808 *  \n",
       "countryPAN   2299.13     969.66   2.371 0.017754 *  \n",
       "countryPER    335.70     969.66   0.346 0.729194    \n",
       "countryPHL  -1467.70     969.66  -1.514 0.130150    \n",
       "countryPOL   2746.89     969.66   2.833 0.004622 ** \n",
       "countryPRT   7103.85     969.66   7.326 2.54e-13 ***\n",
       "countryPRY    283.25     969.66   0.292 0.770205    \n",
       "countryROU    323.51     969.66   0.334 0.738665    \n",
       "countryRUS   4161.94     969.66   4.292 1.78e-05 ***\n",
       "countrySDN  -1875.92     969.66  -1.935 0.053064 .  \n",
       "countrySLV   -139.61     969.66  -0.144 0.885524    \n",
       "countrySRB   1884.92     969.66   1.944 0.051933 .  \n",
       "countrySVK   3101.75     969.66   3.199 0.001384 ** \n",
       "countrySVN   9111.18     969.66   9.396  < 2e-16 ***\n",
       "countrySWE  13189.39     969.66  13.602  < 2e-16 ***\n",
       "countrySWZ  -2448.15     969.66  -2.525 0.011592 *  \n",
       "countryTHA   -152.34     969.66  -0.157 0.875161    \n",
       "countryTJK   -860.96     969.66  -0.888 0.374614    \n",
       "countryTLS  -2267.22     969.66  -2.338 0.019397 *  \n",
       "countryTUR   3055.64     969.66   3.151 0.001630 ** \n",
       "countryTWN  13505.39     969.66  13.928  < 2e-16 ***\n",
       "countryTZA  -2406.06     969.66  -2.481 0.013104 *  \n",
       "countryUGA  -1977.09     969.66  -2.039 0.041479 *  \n",
       "countryUKR    354.56     969.66   0.366 0.714632    \n",
       "countryURY   2295.96     969.66   2.368 0.017912 *  \n",
       "countryUSA  22508.75     969.66  23.213  < 2e-16 ***\n",
       "countryVEN    286.34     969.66   0.295 0.767775    \n",
       "countryVNM  -1567.46     969.66  -1.617 0.106015    \n",
       "countryYEM  -1952.19     969.66  -2.013 0.044110 *  \n",
       "countryZAF   2623.07     969.66   2.705 0.006838 ** \n",
       "---\n",
       "Signif. codes:  0 '***' 0.001 '**' 0.01 '*' 0.05 '.' 0.1 ' ' 1\n",
       "\n",
       "Residual standard error: 6857 on 10989 degrees of freedom\n",
       "Multiple R-squared:  0.4914,\tAdjusted R-squared:  0.4863 \n",
       "F-statistic: 96.54 on 110 and 10989 DF,  p-value: < 2.2e-16\n"
      ]
     },
     "metadata": {},
     "output_type": "display_data"
    },
    {
     "data": {
      "image/png": "[encoded data removed]",
      "text/plain": [
       "Plot with title \"\""
      ]
     },
     "metadata": {},
     "output_type": "display_data"
    }
   ],
   "source": [
    "###Je fais des regressions linéaires pour expliquer au mieux\n",
    "###la variable income.\n",
    "\n",
    "###Anova income ~ country\n",
    "fit_aov<-lm(income ~ country, df)\n",
    "\n",
    "###Graphe analyse résidus\n",
    "layout(matrix(1:4, 2, 2))\n",
    "plot(fit_aov)\n",
    "\n",
    "###test normalité résidu\n",
    "shapiro.test(sample(fit_aov$residuals,5000))\n",
    "\n",
    "ad.test(fit_aov$residuals)\n",
    "\n",
    "ks.test(fit_aov$residuals, \"pnorm\")\n",
    "\n",
    "\n",
    "###test homogénéité résidu\n",
    "fligner.test(residuals(fit_aov)~df$country)\n",
    "\n",
    "bartlett.test(residuals(fit_aov)~df$country)\n",
    "\n",
    "###Analyse\n",
    "summary(fit_aov)"
   ]
  },
  {
   "cell_type": "code",
   "execution_count": null,
   "metadata": {},
   "outputs": [],
   "source": []
  }
 ],
 "metadata": {
  "kernelspec": {
   "display_name": "R",
   "language": "R",
   "name": "ir"
  },
  "language_info": {
   "codemirror_mode": "r",
   "file_extension": ".r",
   "mimetype": "text/x-r-source",
   "name": "R",
   "pygments_lexer": "r",
   "version": "3.6.1"
  }
 },
 "nbformat": 4,
 "nbformat_minor": 4
}
